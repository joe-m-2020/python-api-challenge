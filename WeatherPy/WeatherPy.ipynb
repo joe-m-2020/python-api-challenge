{
 "cells": [
  {
   "cell_type": "markdown",
   "metadata": {},
   "source": [
    "# WeatherPy\n",
    "----\n",
    "\n",
    "#### Note\n",
    "* Instructions have been included for each segment. You do not have to follow them exactly, but they are included to help you think through the steps."
   ]
  },
  {
   "cell_type": "code",
   "execution_count": 61,
   "metadata": {
    "scrolled": true
   },
   "outputs": [],
   "source": [
    "\n",
    "import matplotlib.pyplot as plt\n",
    "import requests\n",
    "from scipy import stats\n",
    "import numpy as np\n",
    "import json\n",
    "import pandas as pd\n",
    "from api_keys import weather_api_key\n",
    "import random\n",
    "from citipy import citipy\n"
   ]
  },
  {
   "cell_type": "code",
   "execution_count": 2,
   "metadata": {},
   "outputs": [],
   "source": [
    "url = \"http://api.openweathermap.org/data/2.5/weather?\"\n",
    "units= \"imperial\"\n"
   ]
  },
  {
   "cell_type": "markdown",
   "metadata": {},
   "source": [
    "## Generate Cities List"
   ]
  },
  {
   "cell_type": "code",
   "execution_count": 3,
   "metadata": {},
   "outputs": [],
   "source": [
    "# for index,value in enumerate(cities[:5]):\n",
    "#     print(index,value)\n",
    "# for index in range(len(cities[:5])):\n",
    "#     print(index,cities[index])\n",
    "# for city in cities[:5]:\n",
    "#     print(city)"
   ]
  },
  {
   "cell_type": "code",
   "execution_count": 4,
   "metadata": {},
   "outputs": [],
   "source": [
    "# <open up my url> for 1 city\n",
    "# for that particular url i would try to obtain all the information"
   ]
  },
  {
   "cell_type": "code",
   "execution_count": 8,
   "metadata": {},
   "outputs": [
    {
     "name": "stdout",
     "output_type": "stream",
     "text": [
      "Beginning Data Retreval\n",
      "----------------------------------------------------------\n",
      "Processing Record 1 of Set 1: avarua\n",
      "Processing Record 2 of Set 1: maarianhamina\n",
      "City not found. Skipping...\n",
      "Processing Record 3 of Set 1: port elizabeth\n",
      "City not found. Skipping...\n",
      "City not found. Skipping...\n",
      "Processing Record 4 of Set 1: korla\n",
      "Processing Record 5 of Set 1: punta arenas\n",
      "Processing Record 6 of Set 1: cariati\n",
      "Processing Record 7 of Set 1: cidreira\n",
      "Processing Record 8 of Set 1: tiksi\n",
      "City not found. Skipping...\n",
      "Processing Record 9 of Set 1: sitka\n",
      "City not found. Skipping...\n",
      "Processing Record 10 of Set 1: sibu\n",
      "Processing Record 11 of Set 1: albany\n",
      "Processing Record 12 of Set 1: teguise\n",
      "Processing Record 13 of Set 1: ranot\n",
      "Processing Record 14 of Set 1: busselton\n",
      "Processing Record 15 of Set 1: rikitea\n",
      "Processing Record 16 of Set 1: ushuaia\n",
      "Processing Record 17 of Set 1: ponta do sol\n",
      "Processing Record 18 of Set 1: dingle\n",
      "Processing Record 19 of Set 1: kasongo-lunda\n",
      "Processing Record 20 of Set 1: danville\n",
      "Processing Record 21 of Set 1: ancud\n",
      "Processing Record 22 of Set 1: ribeira grande\n",
      "Processing Record 23 of Set 1: saint george\n",
      "Processing Record 24 of Set 1: tasiilaq\n",
      "Processing Record 25 of Set 1: georgetown\n",
      "Processing Record 26 of Set 1: chuy\n",
      "City not found. Skipping...\n",
      "Processing Record 27 of Set 1: vaini\n",
      "Processing Record 28 of Set 1: duki\n",
      "City not found. Skipping...\n",
      "City not found. Skipping...\n",
      "Processing Record 29 of Set 1: mataura\n",
      "Processing Record 30 of Set 1: lebu\n",
      "Processing Record 31 of Set 1: atuona\n",
      "Processing Record 32 of Set 1: tuktoyaktuk\n",
      "Processing Record 33 of Set 1: klaksvik\n",
      "Processing Record 34 of Set 1: acajutla\n",
      "Processing Record 35 of Set 1: hobart\n",
      "Processing Record 36 of Set 1: barrow\n",
      "City not found. Skipping...\n",
      "Processing Record 37 of Set 1: port hedland\n",
      "Processing Record 38 of Set 1: torbay\n",
      "Processing Record 39 of Set 1: kavieng\n",
      "Processing Record 40 of Set 1: airai\n",
      "Processing Record 41 of Set 1: cape town\n",
      "Processing Record 42 of Set 1: davenda\n",
      "Processing Record 43 of Set 1: yellowknife\n",
      "Processing Record 44 of Set 1: merritt\n",
      "Processing Record 45 of Set 1: jamestown\n",
      "Processing Record 46 of Set 1: saint-leu\n",
      "Processing Record 47 of Set 1: new norfolk\n",
      "Processing Record 48 of Set 1: seminole\n",
      "Processing Record 49 of Set 1: codrington\n",
      "Processing Record 50 of Set 1: sao jose da coroa grande\n",
      "Processing Record 0 of Set 2: norman wells\n",
      "Processing Record 1 of Set 2: toora-khem\n",
      "Processing Record 2 of Set 2: bilma\n",
      "Processing Record 3 of Set 2: qaanaaq\n",
      "Processing Record 4 of Set 2: verkhnevilyuysk\n",
      "Processing Record 5 of Set 2: bethel\n",
      "Processing Record 6 of Set 2: manga\n",
      "Processing Record 7 of Set 2: sao joao da barra\n",
      "City not found. Skipping...\n",
      "Processing Record 8 of Set 2: bluff\n",
      "Processing Record 9 of Set 2: keetmanshoop\n",
      "Processing Record 10 of Set 2: gigmoto\n",
      "City not found. Skipping...\n",
      "Processing Record 11 of Set 2: novosergiyevka\n",
      "Processing Record 12 of Set 2: auki\n",
      "Processing Record 13 of Set 2: kaoma\n",
      "Processing Record 14 of Set 2: aksarka\n",
      "Processing Record 15 of Set 2: oboyan\n",
      "Processing Record 16 of Set 2: vanavara\n",
      "Processing Record 17 of Set 2: cabo san lucas\n",
      "Processing Record 18 of Set 2: shugurovo\n",
      "Processing Record 19 of Set 2: hambantota\n",
      "Processing Record 20 of Set 2: asfi\n",
      "Processing Record 21 of Set 2: cap malheureux\n",
      "Processing Record 22 of Set 2: nelson bay\n",
      "Processing Record 23 of Set 2: lagoa\n",
      "City not found. Skipping...\n",
      "Processing Record 24 of Set 2: dikson\n",
      "Processing Record 25 of Set 2: boa viagem\n",
      "City not found. Skipping...\n",
      "Processing Record 26 of Set 2: quang ngai\n",
      "Processing Record 27 of Set 2: puerto ayora\n",
      "Processing Record 28 of Set 2: lahaina\n",
      "Processing Record 29 of Set 2: khatanga\n",
      "Processing Record 30 of Set 2: sao filipe\n",
      "Processing Record 31 of Set 2: beringovskiy\n",
      "Processing Record 32 of Set 2: opuwo\n",
      "Processing Record 33 of Set 2: lorengau\n",
      "City not found. Skipping...\n",
      "Processing Record 34 of Set 2: ugoofaaru\n",
      "Processing Record 35 of Set 2: severo-kurilsk\n",
      "Processing Record 36 of Set 2: kuryk\n",
      "Processing Record 37 of Set 2: kaitangata\n",
      "Processing Record 38 of Set 2: bredy\n",
      "Processing Record 39 of Set 2: havelock\n",
      "Processing Record 40 of Set 2: mount gambier\n",
      "Processing Record 41 of Set 2: mar del plata\n",
      "Processing Record 42 of Set 2: graaff-reinet\n",
      "Processing Record 43 of Set 2: hilo\n",
      "Processing Record 44 of Set 2: biak\n",
      "Processing Record 45 of Set 2: kodiak\n",
      "Processing Record 46 of Set 2: bastia\n",
      "Processing Record 47 of Set 2: port-gentil\n",
      "Processing Record 48 of Set 2: san cristobal\n",
      "Processing Record 49 of Set 2: kathmandu\n",
      "Processing Record 50 of Set 2: pemba\n",
      "Processing Record 0 of Set 3: ambilobe\n",
      "Processing Record 1 of Set 3: bosaso\n",
      "Processing Record 2 of Set 3: port alfred\n",
      "Processing Record 3 of Set 3: nanakuli\n",
      "Processing Record 4 of Set 3: saskylakh\n",
      "Processing Record 5 of Set 3: cherskiy\n",
      "Processing Record 6 of Set 3: bengkulu\n",
      "City not found. Skipping...\n",
      "Processing Record 7 of Set 3: bundaberg\n",
      "Processing Record 8 of Set 3: lompoc\n",
      "Processing Record 9 of Set 3: isangel\n",
      "Processing Record 10 of Set 3: geraldton\n",
      "Processing Record 11 of Set 3: nouadhibou\n",
      "Processing Record 12 of Set 3: hermanus\n",
      "Processing Record 13 of Set 3: richards bay\n",
      "Processing Record 14 of Set 3: comodoro rivadavia\n",
      "Processing Record 15 of Set 3: coquimbo\n",
      "City not found. Skipping...\n",
      "Processing Record 16 of Set 3: sidi ali\n",
      "Processing Record 17 of Set 3: kloulklubed\n",
      "Processing Record 18 of Set 3: margate\n",
      "Processing Record 19 of Set 3: honiara\n",
      "Processing Record 20 of Set 3: alice springs\n",
      "Processing Record 21 of Set 3: nea stira\n",
      "Processing Record 22 of Set 3: booue\n",
      "Processing Record 23 of Set 3: luganville\n",
      "Processing Record 24 of Set 3: east london\n",
      "City not found. Skipping...\n",
      "Processing Record 25 of Set 3: tilichiki\n",
      "Processing Record 26 of Set 3: pamyat parizhskoy kommuny\n",
      "Processing Record 27 of Set 3: dodge city\n",
      "Processing Record 28 of Set 3: cedar city\n",
      "Processing Record 29 of Set 3: wattegama\n",
      "Processing Record 30 of Set 3: hithadhoo\n",
      "Processing Record 31 of Set 3: grindavik\n",
      "Processing Record 32 of Set 3: agadez\n",
      "Processing Record 33 of Set 3: nikolskoye\n",
      "Processing Record 34 of Set 3: carnarvon\n",
      "Processing Record 35 of Set 3: port keats\n",
      "Processing Record 36 of Set 3: takoradi\n",
      "Processing Record 37 of Set 3: oktyabrskoye\n",
      "Processing Record 38 of Set 3: ovsyanka\n",
      "Processing Record 39 of Set 3: vardo\n",
      "Processing Record 40 of Set 3: pisco\n",
      "Processing Record 41 of Set 3: seabra\n",
      "City not found. Skipping...\n",
      "Processing Record 42 of Set 3: upernavik\n",
      "Processing Record 43 of Set 3: yumen\n",
      "Processing Record 44 of Set 3: narsaq\n",
      "Processing Record 45 of Set 3: olafsvik\n",
      "Processing Record 46 of Set 3: ola\n",
      "Processing Record 47 of Set 3: pevek\n",
      "Processing Record 48 of Set 3: usinsk\n",
      "Processing Record 49 of Set 3: broken hill\n",
      "City not found. Skipping...\n",
      "Processing Record 50 of Set 3: villa rica\n",
      "Processing Record 0 of Set 4: brookings\n",
      "Processing Record 1 of Set 4: samarai\n",
      "Processing Record 2 of Set 4: koungou\n",
      "City not found. Skipping...\n",
      "Processing Record 3 of Set 4: tuatapere\n",
      "Processing Record 4 of Set 4: saldanha\n",
      "Processing Record 5 of Set 4: north battleford\n",
      "Processing Record 6 of Set 4: kapaa\n",
      "Processing Record 7 of Set 4: kavaratti\n",
      "Processing Record 8 of Set 4: marquette\n",
      "Processing Record 9 of Set 4: tura\n",
      "Processing Record 10 of Set 4: faya\n",
      "Processing Record 11 of Set 4: cayenne\n",
      "Processing Record 12 of Set 4: kang\n",
      "Processing Record 13 of Set 4: san matias\n",
      "City not found. Skipping...\n",
      "Processing Record 14 of Set 4: broome\n",
      "Processing Record 15 of Set 4: letlhakeng\n",
      "Processing Record 16 of Set 4: chapais\n",
      "Processing Record 17 of Set 4: the pas\n",
      "Processing Record 18 of Set 4: nanortalik\n",
      "Processing Record 19 of Set 4: mayumba\n",
      "Processing Record 20 of Set 4: atar\n",
      "Processing Record 21 of Set 4: saint anthony\n",
      "Processing Record 22 of Set 4: bairiki\n",
      "Processing Record 23 of Set 4: mahebourg\n",
      "Processing Record 24 of Set 4: makakilo city\n",
      "Processing Record 25 of Set 4: president roxas\n",
      "Processing Record 26 of Set 4: maniitsoq\n",
      "Processing Record 27 of Set 4: atambua\n",
      "Processing Record 28 of Set 4: alta floresta\n",
      "Processing Record 29 of Set 4: arraial do cabo\n",
      "Processing Record 30 of Set 4: longyearbyen\n",
      "Processing Record 31 of Set 4: waitati\n",
      "Processing Record 32 of Set 4: manakara\n",
      "Processing Record 33 of Set 4: san bartolome de tirajana\n"
     ]
    },
    {
     "name": "stdout",
     "output_type": "stream",
     "text": [
      "Processing Record 34 of Set 4: wamba\n",
      "Processing Record 35 of Set 4: saint-francois\n",
      "Processing Record 36 of Set 4: komsomolskiy\n",
      "Processing Record 37 of Set 4: kholodnyy\n",
      "Processing Record 38 of Set 4: hays\n",
      "Processing Record 39 of Set 4: tezu\n",
      "Processing Record 40 of Set 4: ostrovnoy\n",
      "Processing Record 41 of Set 4: vuktyl\n",
      "Processing Record 42 of Set 4: kruisfontein\n",
      "Processing Record 43 of Set 4: luderitz\n",
      "Processing Record 44 of Set 4: aswan\n",
      "Processing Record 45 of Set 4: hasaki\n",
      "City not found. Skipping...\n",
      "Processing Record 46 of Set 4: luanda\n",
      "Processing Record 47 of Set 4: bredasdorp\n",
      "Processing Record 48 of Set 4: chabahar\n",
      "Processing Record 49 of Set 4: ripoll\n",
      "Processing Record 50 of Set 4: jacareacanga\n",
      "City not found. Skipping...\n",
      "Processing Record 0 of Set 5: djambala\n",
      "Processing Record 1 of Set 5: fonte boa\n",
      "Processing Record 2 of Set 5: bambous virieux\n",
      "Processing Record 3 of Set 5: antofagasta\n",
      "Processing Record 4 of Set 5: anadyr\n",
      "Processing Record 5 of Set 5: krasnoturansk\n",
      "City not found. Skipping...\n",
      "Processing Record 6 of Set 5: butaritari\n",
      "Processing Record 7 of Set 5: jiaozuo\n",
      "Processing Record 8 of Set 5: yar-sale\n",
      "Processing Record 9 of Set 5: sterling\n",
      "Processing Record 10 of Set 5: padang\n",
      "Processing Record 11 of Set 5: sorland\n",
      "Processing Record 12 of Set 5: amapa\n",
      "Processing Record 13 of Set 5: castro\n",
      "Processing Record 14 of Set 5: praya\n",
      "Processing Record 15 of Set 5: bandarbeyla\n",
      "Processing Record 16 of Set 5: guerrero negro\n",
      "Processing Record 17 of Set 5: ajdabiya\n",
      "Processing Record 18 of Set 5: vestmannaeyjar\n",
      "City not found. Skipping...\n",
      "Processing Record 19 of Set 5: baherden\n",
      "Processing Record 20 of Set 5: araouane\n",
      "Processing Record 21 of Set 5: ayan\n",
      "Processing Record 22 of Set 5: cleveland\n",
      "City not found. Skipping...\n",
      "Processing Record 23 of Set 5: vao\n",
      "Processing Record 24 of Set 5: bantou\n",
      "Processing Record 25 of Set 5: ozinki\n",
      "Processing Record 26 of Set 5: zapolyarnyy\n",
      "Processing Record 27 of Set 5: esperance\n",
      "Processing Record 28 of Set 5: flinders\n",
      "Processing Record 29 of Set 5: joshimath\n",
      "Processing Record 30 of Set 5: faanui\n",
      "Processing Record 31 of Set 5: taoudenni\n",
      "Processing Record 32 of Set 5: hualmay\n",
      "City not found. Skipping...\n",
      "Processing Record 33 of Set 5: katsuura\n",
      "Processing Record 34 of Set 5: dolzhanskaya\n",
      "Processing Record 35 of Set 5: okha\n",
      "Processing Record 36 of Set 5: aykhal\n",
      "Processing Record 37 of Set 5: belyy yar\n",
      "Processing Record 38 of Set 5: mokrousovo\n",
      "City not found. Skipping...\n",
      "Processing Record 39 of Set 5: puerto colombia\n",
      "Processing Record 40 of Set 5: assiniboia\n",
      "Processing Record 41 of Set 5: homer\n",
      "Processing Record 42 of Set 5: provideniya\n",
      "Processing Record 43 of Set 5: hellvik\n",
      "Processing Record 44 of Set 5: batagay-alyta\n",
      "Processing Record 45 of Set 5: nata\n",
      "Processing Record 46 of Set 5: tessalit\n",
      "Processing Record 47 of Set 5: asau\n",
      "City not found. Skipping...\n",
      "Processing Record 48 of Set 5: kropotkin\n",
      "Processing Record 49 of Set 5: salinas\n",
      "Processing Record 50 of Set 5: amberley\n",
      "Processing Record 0 of Set 6: saint-joseph\n",
      "Processing Record 1 of Set 6: culpeper\n",
      "City not found. Skipping...\n",
      "Processing Record 2 of Set 6: parrita\n",
      "City not found. Skipping...\n",
      "Processing Record 3 of Set 6: te anau\n",
      "Processing Record 4 of Set 6: sioux lookout\n",
      "Processing Record 5 of Set 6: kyaukse\n",
      "Processing Record 6 of Set 6: galesong\n",
      "Processing Record 7 of Set 6: igrim\n",
      "Processing Record 8 of Set 6: souillac\n",
      "Processing Record 9 of Set 6: naze\n",
      "Processing Record 10 of Set 6: sinnamary\n",
      "Processing Record 11 of Set 6: fethiye\n",
      "Processing Record 12 of Set 6: kawalu\n",
      "Processing Record 13 of Set 6: motygino\n",
      "Processing Record 14 of Set 6: kattivakkam\n",
      "Processing Record 15 of Set 6: harper\n",
      "Processing Record 16 of Set 6: talara\n",
      "Processing Record 17 of Set 6: kalnibolotskaya\n",
      "Processing Record 18 of Set 6: balakhninskiy\n",
      "Processing Record 19 of Set 6: thompson\n",
      "Processing Record 20 of Set 6: maturin\n",
      "Processing Record 21 of Set 6: tiznit\n",
      "Processing Record 22 of Set 6: sao miguel\n",
      "Processing Record 23 of Set 6: datia\n",
      "Processing Record 24 of Set 6: nizwa\n",
      "Processing Record 25 of Set 6: ganzhou\n",
      "Processing Record 26 of Set 6: chhatapur\n",
      "Processing Record 27 of Set 6: henties bay\n",
      "Processing Record 28 of Set 6: severomuysk\n",
      "Processing Record 29 of Set 6: pingliang\n",
      "Processing Record 30 of Set 6: san joaquin\n",
      "Processing Record 31 of Set 6: bahia honda\n",
      "Processing Record 32 of Set 6: coihaique\n",
      "Processing Record 33 of Set 6: springfield\n",
      "Processing Record 34 of Set 6: mougins\n",
      "Processing Record 35 of Set 6: ahipara\n",
      "Processing Record 36 of Set 6: saint-philippe\n",
      "City not found. Skipping...\n",
      "Processing Record 37 of Set 6: dzilam gonzalez\n",
      "City not found. Skipping...\n",
      "Processing Record 38 of Set 6: chokurdakh\n",
      "City not found. Skipping...\n",
      "Processing Record 39 of Set 6: abha\n",
      "Processing Record 40 of Set 6: aklavik\n",
      "Processing Record 41 of Set 6: port hawkesbury\n",
      "City not found. Skipping...\n",
      "Processing Record 42 of Set 6: atessa\n",
      "City not found. Skipping...\n",
      "Processing Record 43 of Set 6: astana\n",
      "Processing Record 44 of Set 6: walvis bay\n",
      "Processing Record 45 of Set 6: mount isa\n",
      "Processing Record 46 of Set 6: canyon\n",
      "Processing Record 47 of Set 6: port hardy\n",
      "Processing Record 48 of Set 6: nome\n",
      "Processing Record 49 of Set 6: imbituba\n",
      "Processing Record 50 of Set 6: buenos aires\n",
      "Processing Record 0 of Set 7: avera\n",
      "Processing Record 1 of Set 7: bathsheba\n",
      "Processing Record 2 of Set 7: chalchihuites\n",
      "Processing Record 3 of Set 7: kapoeta\n",
      "Processing Record 4 of Set 7: charlestown\n",
      "Processing Record 5 of Set 7: camacha\n",
      "Processing Record 6 of Set 7: les cayes\n",
      "Processing Record 7 of Set 7: charagua\n",
      "Processing Record 8 of Set 7: innisfail\n",
      "Processing Record 9 of Set 7: carutapera\n",
      "City not found. Skipping...\n",
      "City not found. Skipping...\n",
      "Processing Record 10 of Set 7: kurilsk\n",
      "Processing Record 11 of Set 7: altamont\n",
      "Processing Record 12 of Set 7: vila velha\n",
      "Processing Record 13 of Set 7: waipawa\n",
      "Processing Record 14 of Set 7: hamilton\n",
      "Processing Record 15 of Set 7: altay\n",
      "Processing Record 16 of Set 7: leningradskiy\n",
      "Processing Record 17 of Set 7: ulladulla\n",
      "Processing Record 18 of Set 7: zatoka\n",
      "Processing Record 19 of Set 7: talnakh\n",
      "Processing Record 20 of Set 7: rovaniemi\n",
      "Processing Record 21 of Set 7: sorbhog\n",
      "Processing Record 22 of Set 7: magadan\n",
      "Processing Record 23 of Set 7: dubuque\n",
      "Processing Record 24 of Set 7: trinidad\n",
      "Processing Record 25 of Set 7: vereeniging\n",
      "Processing Record 26 of Set 7: nsanje\n",
      "Processing Record 27 of Set 7: tapioszolos\n",
      "Processing Record 28 of Set 7: hammerfest\n",
      "Processing Record 29 of Set 7: japura\n",
      "Processing Record 30 of Set 7: bhilwara\n",
      "Processing Record 31 of Set 7: maloy\n",
      "Processing Record 32 of Set 7: fortuna\n",
      "Processing Record 33 of Set 7: gidole\n",
      "Processing Record 34 of Set 7: quatre cocos\n",
      "Processing Record 35 of Set 7: nalut\n",
      "City not found. Skipping...\n",
      "Processing Record 36 of Set 7: itarema\n",
      "Processing Record 37 of Set 7: ruidoso\n",
      "Processing Record 38 of Set 7: englewood\n",
      "Processing Record 39 of Set 7: santiago del estero\n",
      "Processing Record 40 of Set 7: shingu\n",
      "Processing Record 41 of Set 7: los palmitos\n",
      "Processing Record 42 of Set 7: odweyne\n",
      "Processing Record 43 of Set 7: baturaja\n",
      "Processing Record 44 of Set 7: aguimes\n",
      "Processing Record 45 of Set 7: vila\n",
      "Processing Record 46 of Set 7: inirida\n",
      "Processing Record 47 of Set 7: hofn\n",
      "Processing Record 48 of Set 7: duzce\n",
      "Processing Record 49 of Set 7: concarneau\n",
      "Processing Record 50 of Set 7: bushehr\n",
      "Processing Record 0 of Set 8: simbahan\n",
      "Processing Record 1 of Set 8: pampa\n",
      "Processing Record 2 of Set 8: bobota\n",
      "Processing Record 3 of Set 8: salalah\n",
      "Processing Record 4 of Set 8: stornoway\n",
      "Processing Record 5 of Set 8: clyde river\n",
      "Processing Record 6 of Set 8: belaya gora\n",
      "Processing Record 7 of Set 8: eyl\n",
      "Processing Record 8 of Set 8: ust-omchug\n",
      "City not found. Skipping...\n",
      "Processing Record 9 of Set 8: ust-kuyga\n",
      "Processing Record 10 of Set 8: durusu\n",
      "Processing Record 11 of Set 8: trybukhivtsi\n",
      "City not found. Skipping...\n",
      "Processing Record 12 of Set 8: saint-pierre\n",
      "Processing Record 13 of Set 8: leshukonskoye\n",
      "Processing Record 14 of Set 8: abu kamal\n",
      "Processing Record 15 of Set 8: auray\n",
      "Processing Record 16 of Set 8: mazyr\n",
      "Processing Record 17 of Set 8: batemans bay\n",
      "Processing Record 18 of Set 8: semnan\n",
      "Processing Record 19 of Set 8: maua\n",
      "City not found. Skipping...\n"
     ]
    },
    {
     "name": "stdout",
     "output_type": "stream",
     "text": [
      "Processing Record 20 of Set 8: kincardine\n",
      "Processing Record 21 of Set 8: severo-yeniseyskiy\n",
      "City not found. Skipping...\n",
      "Processing Record 22 of Set 8: marfino\n",
      "Processing Record 23 of Set 8: muhos\n",
      "Processing Record 24 of Set 8: nuuk\n",
      "Processing Record 25 of Set 8: cairns\n",
      "Processing Record 26 of Set 8: whyalla\n",
      "Processing Record 27 of Set 8: amurzet\n",
      "Processing Record 28 of Set 8: westport\n",
      "City not found. Skipping...\n",
      "Processing Record 29 of Set 8: jaten\n",
      "Processing Record 30 of Set 8: gamba\n",
      "Processing Record 31 of Set 8: nhulunbuy\n",
      "Processing Record 32 of Set 8: rawson\n",
      "Processing Record 33 of Set 8: ulundi\n",
      "City not found. Skipping...\n",
      "Processing Record 34 of Set 8: pierre\n",
      "Processing Record 35 of Set 8: azare\n",
      "Processing Record 36 of Set 8: portree\n",
      "Processing Record 37 of Set 8: brigantine\n",
      "Processing Record 38 of Set 8: uyuni\n",
      "Processing Record 39 of Set 8: alma\n",
      "Processing Record 40 of Set 8: kuah\n",
      "Processing Record 41 of Set 8: alofi\n",
      "Processing Record 42 of Set 8: sabha\n",
      "Processing Record 43 of Set 8: vallenar\n",
      "Processing Record 44 of Set 8: marawi\n",
      "Processing Record 45 of Set 8: palmer\n",
      "Processing Record 46 of Set 8: bonavista\n",
      "Processing Record 47 of Set 8: gravdal\n",
      "Processing Record 48 of Set 8: lusambo\n",
      "Processing Record 49 of Set 8: tautira\n",
      "Processing Record 50 of Set 8: iqaluit\n",
      "Processing Record 0 of Set 9: buraydah\n",
      "Processing Record 1 of Set 9: pacific grove\n",
      "Processing Record 2 of Set 9: namibe\n",
      "Processing Record 3 of Set 9: badnawar\n",
      "Processing Record 4 of Set 9: yazykovo\n",
      "City not found. Skipping...\n",
      "Processing Record 5 of Set 9: calvinia\n",
      "Processing Record 6 of Set 9: hailar\n",
      "Processing Record 7 of Set 9: inhambane\n",
      "Processing Record 8 of Set 9: la rioja\n",
      "Processing Record 9 of Set 9: san policarpo\n",
      "Processing Record 10 of Set 9: tibacuy\n",
      "City not found. Skipping...\n",
      "Processing Record 11 of Set 9: portland\n",
      "Processing Record 12 of Set 9: jiangmen\n",
      "Processing Record 13 of Set 9: mitu\n",
      "Processing Record 14 of Set 9: portage\n",
      "Processing Record 15 of Set 9: jaciara\n",
      "Processing Record 16 of Set 9: oksfjord\n",
      "Processing Record 17 of Set 9: galveston\n",
      "City not found. Skipping...\n",
      "Processing Record 18 of Set 9: tambovka\n",
      "Processing Record 19 of Set 9: menongue\n",
      "City not found. Skipping...\n",
      "Processing Record 20 of Set 9: rocha\n",
      "Processing Record 21 of Set 9: zaraza\n",
      "Processing Record 22 of Set 9: whitecourt\n",
      "Processing Record 23 of Set 9: lavrentiya\n",
      "Processing Record 24 of Set 9: oliveira dos brejinhos\n",
      "Processing Record 25 of Set 9: chateaubelair\n",
      "Processing Record 26 of Set 9: mersing\n",
      "Processing Record 27 of Set 9: kedrovyy\n",
      "Processing Record 28 of Set 9: marzuq\n",
      "City not found. Skipping...\n",
      "Processing Record 29 of Set 9: limon\n",
      "Processing Record 30 of Set 9: hermiston\n",
      "Processing Record 31 of Set 9: san jeronimo\n",
      "Processing Record 32 of Set 9: rosarito\n",
      "Processing Record 33 of Set 9: corinto\n",
      "City not found. Skipping...\n",
      "Processing Record 34 of Set 9: tuscaloosa\n",
      "Processing Record 35 of Set 9: bogande\n",
      "Processing Record 36 of Set 9: gusino\n",
      "Processing Record 37 of Set 9: bani walid\n",
      "Processing Record 38 of Set 9: lodeynoye pole\n",
      "City not found. Skipping...\n",
      "Processing Record 39 of Set 9: bilibino\n",
      "Processing Record 40 of Set 9: klyuchi\n",
      "Processing Record 41 of Set 9: bud\n",
      "Processing Record 42 of Set 9: pochutla\n",
      "Processing Record 43 of Set 9: andenes\n",
      "Processing Record 44 of Set 9: ipatovo\n",
      "Processing Record 45 of Set 9: aleppo\n",
      "Processing Record 46 of Set 9: husavik\n",
      "Processing Record 47 of Set 9: amaraji\n",
      "Processing Record 48 of Set 9: miri\n",
      "Processing Record 49 of Set 9: bowen\n",
      "Processing Record 50 of Set 9: aksehir\n",
      "Processing Record 0 of Set 10: bedele\n",
      "Processing Record 1 of Set 10: sharkan\n",
      "Processing Record 2 of Set 10: aripuana\n",
      "Processing Record 3 of Set 10: radhanpur\n",
      "Processing Record 4 of Set 10: surany\n",
      "Processing Record 5 of Set 10: borogontsy\n",
      "Processing Record 6 of Set 10: havoysund\n",
      "Processing Record 7 of Set 10: alyangula\n",
      "Processing Record 8 of Set 10: tecoanapa\n",
      "Processing Record 9 of Set 10: arman\n",
      "Processing Record 10 of Set 10: lima\n",
      "Processing Record 11 of Set 10: tucuma\n",
      "Processing Record 12 of Set 10: victoria\n",
      "Processing Record 13 of Set 10: kahului\n",
      "Processing Record 14 of Set 10: omboue\n",
      "City not found. Skipping...\n",
      "Processing Record 15 of Set 10: baghdad\n",
      "Processing Record 16 of Set 10: eyrarbakki\n",
      "Processing Record 17 of Set 10: jadu\n",
      "Processing Record 18 of Set 10: sola\n",
      "Processing Record 19 of Set 10: kaka\n",
      "Processing Record 20 of Set 10: tabuk\n",
      "Processing Record 21 of Set 10: sikasso\n",
      "Processing Record 22 of Set 10: barcelos\n",
      "Processing Record 23 of Set 10: fougamou\n",
      "Processing Record 24 of Set 10: adrar\n",
      "Processing Record 25 of Set 10: rovenki\n",
      "Processing Record 26 of Set 10: coacoyul\n",
      "Processing Record 27 of Set 10: stephenville\n",
      "Processing Record 28 of Set 10: raga\n",
      "Processing Record 29 of Set 10: faro\n",
      "Processing Record 30 of Set 10: russell\n",
      "Processing Record 31 of Set 10: zhezkazgan\n",
      "Processing Record 32 of Set 10: ilulissat\n",
      "Processing Record 33 of Set 10: pozo colorado\n",
      "City not found. Skipping...\n",
      "Processing Record 34 of Set 10: garmsar\n",
      "Processing Record 35 of Set 10: harindanga\n",
      "Processing Record 36 of Set 10: buchanan\n",
      "Processing Record 37 of Set 10: oistins\n",
      "Processing Record 38 of Set 10: edinet\n",
      "Processing Record 39 of Set 10: asosa\n",
      "Processing Record 40 of Set 10: grand gaube\n",
      "Processing Record 41 of Set 10: camopi\n",
      "Processing Record 42 of Set 10: tongchuan\n",
      "Processing Record 43 of Set 10: college\n",
      "Processing Record 44 of Set 10: hakodate\n",
      "Processing Record 45 of Set 10: seoul\n",
      "Processing Record 46 of Set 10: kuldur\n",
      "Processing Record 47 of Set 10: acapulco\n",
      "Processing Record 48 of Set 10: pleshanovo\n",
      "Processing Record 49 of Set 10: tabas\n",
      "Processing Record 50 of Set 10: san patricio\n",
      "City not found. Skipping...\n",
      "Processing Record 0 of Set 11: dwarka\n",
      "Processing Record 1 of Set 11: morro bay\n",
      "Processing Record 2 of Set 11: cuiluan\n",
      "Processing Record 3 of Set 11: mufumbwe\n",
      "Processing Record 4 of Set 11: florence\n",
      "Processing Record 5 of Set 11: macusani\n",
      "Processing Record 6 of Set 11: chiredzi\n",
      "Processing Record 7 of Set 11: tondano\n",
      "Processing Record 8 of Set 11: winnemucca\n",
      "Processing Record 9 of Set 11: la ronge\n",
      "Processing Record 10 of Set 11: yaan\n",
      "Processing Record 11 of Set 11: morant bay\n",
      "Processing Record 12 of Set 11: viedma\n",
      "Processing Record 13 of Set 11: alenquer\n",
      "Processing Record 14 of Set 11: ixtapa\n",
      "Processing Record 15 of Set 11: hirara\n",
      "Processing Record 16 of Set 11: gat\n",
      "Processing Record 17 of Set 11: two rivers\n",
      "Processing Record 18 of Set 11: ahualulco\n",
      "Processing Record 19 of Set 11: santa isabel do rio negro\n",
      "Processing Record 20 of Set 11: lexington\n",
      "Processing Record 21 of Set 11: nizhniy odes\n",
      "Processing Record 22 of Set 11: lasa\n",
      "Processing Record 23 of Set 11: poum\n",
      "Processing Record 24 of Set 11: lerwick\n",
      "Processing Record 25 of Set 11: nampula\n",
      "Processing Record 26 of Set 11: seymchan\n",
      "Processing Record 27 of Set 11: rio gallegos\n",
      "Processing Record 28 of Set 11: omsukchan\n",
      "Processing Record 29 of Set 11: payo\n",
      "City not found. Skipping...\n",
      "----------------------------------------------------------\n",
      "Data Retrieval Complete\n",
      "----------------------------------------------------------\n"
     ]
    }
   ],
   "source": [
    "# lists for latitudes and longitudes and cities\n",
    "\n",
    "lat_lons = []\n",
    "cities = []\n",
    "\n",
    "# Use random to generate and add to lists random latitude and longitudes and citipy to find\n",
    "# closest city and add to lists\n",
    "lats = np.random.uniform(low=-90,high=90, size =1500)\n",
    "lons = np.random.uniform(low=-180,high=180,size=1500)\n",
    "lat_lons = zip(lats,lons)\n",
    "\n",
    "\n",
    "for lat_lon in lat_lons:\n",
    "    city = citipy.nearest_city(lat_lon[0],lat_lon[1]).city_name\n",
    "    if city not in cities:\n",
    "        cities.append(city)\n",
    "            \n",
    "               \n",
    "# format open weather url               \n",
    "query_url = f\"{url}appid={weather_api_key}&units={units}&q=\"\n",
    "\n",
    "# create lists to collect metadata\n",
    "city_name = []\n",
    "lat_list = []\n",
    "lon_list = []\n",
    "max_temp = []\n",
    "humidity = []\n",
    "cloudiness = []\n",
    "wind_speed = []\n",
    "country = []\n",
    "date = []\n",
    "\n",
    "print(\"Beginning Data Retreval\")\n",
    "print('----------------------------------------------------------')\n",
    "# use enumerate for \n",
    "index_count = 0\n",
    "set_count = 1\n",
    "for city in cities:\n",
    "    try:\n",
    "        response = requests.get(f\"{query_url}{city}\").json()\n",
    "        city_name.append(response['name'])\n",
    "        lat_list.append(response['coord']['lat'])\n",
    "        lon_list.append(response['coord']['lon'])\n",
    "        max_temp.append(response['main']['temp_max'])\n",
    "        humidity.append(response['main']['humidity'])\n",
    "        cloudiness.append(response['clouds']['all'])\n",
    "        wind_speed.append(response['wind']['speed'])\n",
    "        country.append(response['sys']['country'])\n",
    "        date.append(response['dt'])\n",
    "        if index_count > 49:\n",
    "            index_count=0\n",
    "            set_count+=1\n",
    "        else:\n",
    "            index_count+=1\n",
    "        print(f\"Processing Record {index_count} of Set {set_count}: {city}\")\n",
    "    except(KeyError, IndexError):\n",
    "        print(\"City not found. Skipping...\")\n",
    "print('----------------------------------------------------------')\n",
    "print('Data Retrieval Complete')\n",
    "print('----------------------------------------------------------')"
   ]
  },
  {
   "cell_type": "markdown",
   "metadata": {},
   "source": [
    "### Perform API Calls\n",
    "* Perform a weather check on each city using a series of successive API calls.\n",
    "* Include a print log of each city as it'sbeing processed (with the city number and city name).\n"
   ]
  },
  {
   "cell_type": "code",
   "execution_count": null,
   "metadata": {
    "scrolled": true
   },
   "outputs": [],
   "source": []
  },
  {
   "cell_type": "markdown",
   "metadata": {},
   "source": [
    "### Convert Raw Data to DataFrame\n",
    "* Export the city data into a .csv.\n",
    "* Display the DataFrame"
   ]
  },
  {
   "cell_type": "code",
   "execution_count": 16,
   "metadata": {},
   "outputs": [
    {
     "data": {
      "text/html": [
       "<div>\n",
       "<style scoped>\n",
       "    .dataframe tbody tr th:only-of-type {\n",
       "        vertical-align: middle;\n",
       "    }\n",
       "\n",
       "    .dataframe tbody tr th {\n",
       "        vertical-align: top;\n",
       "    }\n",
       "\n",
       "    .dataframe thead th {\n",
       "        text-align: right;\n",
       "    }\n",
       "</style>\n",
       "<table border=\"1\" class=\"dataframe\">\n",
       "  <thead>\n",
       "    <tr style=\"text-align: right;\">\n",
       "      <th></th>\n",
       "      <th>City</th>\n",
       "      <th>Lat</th>\n",
       "      <th>Lng</th>\n",
       "      <th>Max Temp</th>\n",
       "      <th>Humidity</th>\n",
       "      <th>Cloudiness</th>\n",
       "      <th>Wind Speed</th>\n",
       "      <th>Country</th>\n",
       "      <th>Date</th>\n",
       "    </tr>\n",
       "  </thead>\n",
       "  <tbody>\n",
       "    <tr>\n",
       "      <th>0</th>\n",
       "      <td>Avarua</td>\n",
       "      <td>-21.21</td>\n",
       "      <td>-159.78</td>\n",
       "      <td>75.20</td>\n",
       "      <td>83</td>\n",
       "      <td>100</td>\n",
       "      <td>8.05</td>\n",
       "      <td>CK</td>\n",
       "      <td>1604195735</td>\n",
       "    </tr>\n",
       "    <tr>\n",
       "      <th>1</th>\n",
       "      <td>Mariehamn</td>\n",
       "      <td>60.10</td>\n",
       "      <td>19.93</td>\n",
       "      <td>48.20</td>\n",
       "      <td>87</td>\n",
       "      <td>0</td>\n",
       "      <td>16.11</td>\n",
       "      <td>AX</td>\n",
       "      <td>1604195736</td>\n",
       "    </tr>\n",
       "    <tr>\n",
       "      <th>2</th>\n",
       "      <td>Port Elizabeth</td>\n",
       "      <td>-33.92</td>\n",
       "      <td>25.57</td>\n",
       "      <td>64.40</td>\n",
       "      <td>82</td>\n",
       "      <td>75</td>\n",
       "      <td>8.05</td>\n",
       "      <td>ZA</td>\n",
       "      <td>1604195736</td>\n",
       "    </tr>\n",
       "    <tr>\n",
       "      <th>3</th>\n",
       "      <td>Korla</td>\n",
       "      <td>41.76</td>\n",
       "      <td>86.15</td>\n",
       "      <td>48.00</td>\n",
       "      <td>72</td>\n",
       "      <td>0</td>\n",
       "      <td>5.01</td>\n",
       "      <td>CN</td>\n",
       "      <td>1604195736</td>\n",
       "    </tr>\n",
       "    <tr>\n",
       "      <th>4</th>\n",
       "      <td>Punta Arenas</td>\n",
       "      <td>-53.15</td>\n",
       "      <td>-70.92</td>\n",
       "      <td>46.40</td>\n",
       "      <td>81</td>\n",
       "      <td>0</td>\n",
       "      <td>3.36</td>\n",
       "      <td>CL</td>\n",
       "      <td>1604195736</td>\n",
       "    </tr>\n",
       "    <tr>\n",
       "      <th>...</th>\n",
       "      <td>...</td>\n",
       "      <td>...</td>\n",
       "      <td>...</td>\n",
       "      <td>...</td>\n",
       "      <td>...</td>\n",
       "      <td>...</td>\n",
       "      <td>...</td>\n",
       "      <td>...</td>\n",
       "      <td>...</td>\n",
       "    </tr>\n",
       "    <tr>\n",
       "      <th>534</th>\n",
       "      <td>Nampula</td>\n",
       "      <td>-15.12</td>\n",
       "      <td>39.27</td>\n",
       "      <td>69.80</td>\n",
       "      <td>88</td>\n",
       "      <td>75</td>\n",
       "      <td>4.70</td>\n",
       "      <td>MZ</td>\n",
       "      <td>1604195715</td>\n",
       "    </tr>\n",
       "    <tr>\n",
       "      <th>535</th>\n",
       "      <td>Seymchan</td>\n",
       "      <td>62.88</td>\n",
       "      <td>152.43</td>\n",
       "      <td>16.07</td>\n",
       "      <td>93</td>\n",
       "      <td>100</td>\n",
       "      <td>5.23</td>\n",
       "      <td>RU</td>\n",
       "      <td>1604195813</td>\n",
       "    </tr>\n",
       "    <tr>\n",
       "      <th>536</th>\n",
       "      <td>Río Gallegos</td>\n",
       "      <td>-51.62</td>\n",
       "      <td>-69.22</td>\n",
       "      <td>50.00</td>\n",
       "      <td>71</td>\n",
       "      <td>0</td>\n",
       "      <td>3.36</td>\n",
       "      <td>AR</td>\n",
       "      <td>1604195813</td>\n",
       "    </tr>\n",
       "    <tr>\n",
       "      <th>537</th>\n",
       "      <td>Omsukchan</td>\n",
       "      <td>62.53</td>\n",
       "      <td>155.80</td>\n",
       "      <td>20.43</td>\n",
       "      <td>95</td>\n",
       "      <td>100</td>\n",
       "      <td>6.87</td>\n",
       "      <td>RU</td>\n",
       "      <td>1604195813</td>\n",
       "    </tr>\n",
       "    <tr>\n",
       "      <th>538</th>\n",
       "      <td>Payo</td>\n",
       "      <td>-3.75</td>\n",
       "      <td>103.64</td>\n",
       "      <td>81.75</td>\n",
       "      <td>77</td>\n",
       "      <td>100</td>\n",
       "      <td>0.92</td>\n",
       "      <td>ID</td>\n",
       "      <td>1604195813</td>\n",
       "    </tr>\n",
       "  </tbody>\n",
       "</table>\n",
       "<p>539 rows × 9 columns</p>\n",
       "</div>"
      ],
      "text/plain": [
       "               City    Lat     Lng  Max Temp  Humidity  Cloudiness  \\\n",
       "0            Avarua -21.21 -159.78     75.20        83         100   \n",
       "1         Mariehamn  60.10   19.93     48.20        87           0   \n",
       "2    Port Elizabeth -33.92   25.57     64.40        82          75   \n",
       "3             Korla  41.76   86.15     48.00        72           0   \n",
       "4      Punta Arenas -53.15  -70.92     46.40        81           0   \n",
       "..              ...    ...     ...       ...       ...         ...   \n",
       "534         Nampula -15.12   39.27     69.80        88          75   \n",
       "535        Seymchan  62.88  152.43     16.07        93         100   \n",
       "536    Río Gallegos -51.62  -69.22     50.00        71           0   \n",
       "537       Omsukchan  62.53  155.80     20.43        95         100   \n",
       "538            Payo  -3.75  103.64     81.75        77         100   \n",
       "\n",
       "     Wind Speed Country        Date  \n",
       "0          8.05      CK  1604195735  \n",
       "1         16.11      AX  1604195736  \n",
       "2          8.05      ZA  1604195736  \n",
       "3          5.01      CN  1604195736  \n",
       "4          3.36      CL  1604195736  \n",
       "..          ...     ...         ...  \n",
       "534        4.70      MZ  1604195715  \n",
       "535        5.23      RU  1604195813  \n",
       "536        3.36      AR  1604195813  \n",
       "537        6.87      RU  1604195813  \n",
       "538        0.92      ID  1604195813  \n",
       "\n",
       "[539 rows x 9 columns]"
      ]
     },
     "execution_count": 16,
     "metadata": {},
     "output_type": "execute_result"
    }
   ],
   "source": [
    "\n",
    "data_dict = {\"City\":city_name,'Lat':lat_list,'Lng':lon_list,'Max Temp':max_temp,\n",
    "            'Humidity':humidity,'Cloudiness':cloudiness,'Wind Speed':wind_speed,\n",
    "            'Country':country,'Date':date}\n",
    "city_weather_df = pd.DataFrame(data_dict)\n",
    "\n",
    "city_weather_df.to_csv(r'C:\\Users\\Joe\\Documents\\Boot_Camp\\Homework\\Week_6\\06-Python-APIs\\python-api-challenge\\WeatherPy\\Figures\\WeatherPy_output.csv', index = False)\n",
    "\n",
    "\n",
    "city_weather_df\n"
   ]
  },
  {
   "cell_type": "markdown",
   "metadata": {},
   "source": [
    "## Inspect the data and remove the cities where the humidity > 100%.\n",
    "----\n",
    "Skip this step if there are no cities that have humidity > 100%. "
   ]
  },
  {
   "cell_type": "code",
   "execution_count": 82,
   "metadata": {},
   "outputs": [
    {
     "data": {
      "text/html": [
       "<div>\n",
       "<style scoped>\n",
       "    .dataframe tbody tr th:only-of-type {\n",
       "        vertical-align: middle;\n",
       "    }\n",
       "\n",
       "    .dataframe tbody tr th {\n",
       "        vertical-align: top;\n",
       "    }\n",
       "\n",
       "    .dataframe thead th {\n",
       "        text-align: right;\n",
       "    }\n",
       "</style>\n",
       "<table border=\"1\" class=\"dataframe\">\n",
       "  <thead>\n",
       "    <tr style=\"text-align: right;\">\n",
       "      <th></th>\n",
       "      <th>Lat</th>\n",
       "      <th>Lng</th>\n",
       "      <th>Max Temp</th>\n",
       "      <th>Humidity</th>\n",
       "      <th>Cloudiness</th>\n",
       "      <th>Wind Speed</th>\n",
       "      <th>Date</th>\n",
       "    </tr>\n",
       "  </thead>\n",
       "  <tbody>\n",
       "    <tr>\n",
       "      <th>count</th>\n",
       "      <td>539.000000</td>\n",
       "      <td>539.000000</td>\n",
       "      <td>539.000000</td>\n",
       "      <td>539.000000</td>\n",
       "      <td>539.000000</td>\n",
       "      <td>539.000000</td>\n",
       "      <td>5.390000e+02</td>\n",
       "    </tr>\n",
       "    <tr>\n",
       "      <th>mean</th>\n",
       "      <td>20.586327</td>\n",
       "      <td>15.301763</td>\n",
       "      <td>57.078701</td>\n",
       "      <td>73.116883</td>\n",
       "      <td>52.111317</td>\n",
       "      <td>7.951503</td>\n",
       "      <td>1.604196e+09</td>\n",
       "    </tr>\n",
       "    <tr>\n",
       "      <th>std</th>\n",
       "      <td>33.221217</td>\n",
       "      <td>89.545930</td>\n",
       "      <td>21.726712</td>\n",
       "      <td>20.526419</td>\n",
       "      <td>41.800627</td>\n",
       "      <td>5.824340</td>\n",
       "      <td>8.775940e+01</td>\n",
       "    </tr>\n",
       "    <tr>\n",
       "      <th>min</th>\n",
       "      <td>-54.800000</td>\n",
       "      <td>-175.200000</td>\n",
       "      <td>-8.000000</td>\n",
       "      <td>13.000000</td>\n",
       "      <td>0.000000</td>\n",
       "      <td>0.020000</td>\n",
       "      <td>1.604195e+09</td>\n",
       "    </tr>\n",
       "    <tr>\n",
       "      <th>25%</th>\n",
       "      <td>-7.480000</td>\n",
       "      <td>-64.960000</td>\n",
       "      <td>44.375000</td>\n",
       "      <td>64.000000</td>\n",
       "      <td>1.000000</td>\n",
       "      <td>3.655000</td>\n",
       "      <td>1.604196e+09</td>\n",
       "    </tr>\n",
       "    <tr>\n",
       "      <th>50%</th>\n",
       "      <td>25.350000</td>\n",
       "      <td>19.780000</td>\n",
       "      <td>61.090000</td>\n",
       "      <td>77.000000</td>\n",
       "      <td>67.000000</td>\n",
       "      <td>6.930000</td>\n",
       "      <td>1.604196e+09</td>\n",
       "    </tr>\n",
       "    <tr>\n",
       "      <th>75%</th>\n",
       "      <td>47.760000</td>\n",
       "      <td>89.310000</td>\n",
       "      <td>74.700000</td>\n",
       "      <td>88.000000</td>\n",
       "      <td>95.000000</td>\n",
       "      <td>10.290000</td>\n",
       "      <td>1.604196e+09</td>\n",
       "    </tr>\n",
       "    <tr>\n",
       "      <th>max</th>\n",
       "      <td>78.220000</td>\n",
       "      <td>179.320000</td>\n",
       "      <td>92.530000</td>\n",
       "      <td>100.000000</td>\n",
       "      <td>100.000000</td>\n",
       "      <td>50.000000</td>\n",
       "      <td>1.604196e+09</td>\n",
       "    </tr>\n",
       "  </tbody>\n",
       "</table>\n",
       "</div>"
      ],
      "text/plain": [
       "              Lat         Lng    Max Temp    Humidity  Cloudiness  Wind Speed  \\\n",
       "count  539.000000  539.000000  539.000000  539.000000  539.000000  539.000000   \n",
       "mean    20.586327   15.301763   57.078701   73.116883   52.111317    7.951503   \n",
       "std     33.221217   89.545930   21.726712   20.526419   41.800627    5.824340   \n",
       "min    -54.800000 -175.200000   -8.000000   13.000000    0.000000    0.020000   \n",
       "25%     -7.480000  -64.960000   44.375000   64.000000    1.000000    3.655000   \n",
       "50%     25.350000   19.780000   61.090000   77.000000   67.000000    6.930000   \n",
       "75%     47.760000   89.310000   74.700000   88.000000   95.000000   10.290000   \n",
       "max     78.220000  179.320000   92.530000  100.000000  100.000000   50.000000   \n",
       "\n",
       "               Date  \n",
       "count  5.390000e+02  \n",
       "mean   1.604196e+09  \n",
       "std    8.775940e+01  \n",
       "min    1.604195e+09  \n",
       "25%    1.604196e+09  \n",
       "50%    1.604196e+09  \n",
       "75%    1.604196e+09  \n",
       "max    1.604196e+09  "
      ]
     },
     "execution_count": 82,
     "metadata": {},
     "output_type": "execute_result"
    }
   ],
   "source": [
    "\n",
    "# Describe data to look for errors in humidity where max > 100\n",
    "describe_weather_df=city_weather_df.describe()\n",
    "describe_weather_df"
   ]
  },
  {
   "cell_type": "code",
   "execution_count": 54,
   "metadata": {},
   "outputs": [],
   "source": [
    "# city_weather_df.loc[ 2,\"Lng\" ]\n",
    "# city_weather_df.loc[ : ,\"Lng\" ]\n",
    "# city_weather_df.loc[1:2, 'Lng':'Max Temp']\n",
    "# city_weather_df.loc[city_weather_df[\"Humidity\"]<50 ,:]\n",
    "# city_weather_df.loc[city_weather_df[\"Humidity\"]>100,:]\n"
   ]
  },
  {
   "cell_type": "code",
   "execution_count": null,
   "metadata": {},
   "outputs": [],
   "source": []
  },
  {
   "cell_type": "code",
   "execution_count": null,
   "metadata": {},
   "outputs": [],
   "source": [
    "# Make a new DataFrame equal to the city data to drop all humidity outliers by index.\n",
    "# Passing \"inplace=False\" will make a copy of the city_data DataFrame, which we call \"clean_city_data\".\n"
   ]
  },
  {
   "cell_type": "code",
   "execution_count": null,
   "metadata": {},
   "outputs": [],
   "source": [
    "\n"
   ]
  },
  {
   "cell_type": "markdown",
   "metadata": {},
   "source": [
    "## Plotting the Data\n",
    "* Use proper labeling of the plots using plot titles (including date of analysis) and axes labels.\n",
    "* Save the plotted figures as .pngs."
   ]
  },
  {
   "cell_type": "markdown",
   "metadata": {},
   "source": [
    "## Latitude vs. Temperature Plot"
   ]
  },
  {
   "cell_type": "code",
   "execution_count": 18,
   "metadata": {
    "scrolled": true
   },
   "outputs": [
    {
     "data": {
      "text/html": [
       "<div>\n",
       "<style scoped>\n",
       "    .dataframe tbody tr th:only-of-type {\n",
       "        vertical-align: middle;\n",
       "    }\n",
       "\n",
       "    .dataframe tbody tr th {\n",
       "        vertical-align: top;\n",
       "    }\n",
       "\n",
       "    .dataframe thead th {\n",
       "        text-align: right;\n",
       "    }\n",
       "</style>\n",
       "<table border=\"1\" class=\"dataframe\">\n",
       "  <thead>\n",
       "    <tr style=\"text-align: right;\">\n",
       "      <th></th>\n",
       "      <th>City</th>\n",
       "      <th>Lat</th>\n",
       "      <th>Lng</th>\n",
       "      <th>Max Temp</th>\n",
       "      <th>Humidity</th>\n",
       "      <th>Cloudiness</th>\n",
       "      <th>Wind Speed</th>\n",
       "      <th>Country</th>\n",
       "      <th>Date</th>\n",
       "    </tr>\n",
       "  </thead>\n",
       "  <tbody>\n",
       "    <tr>\n",
       "      <th>0</th>\n",
       "      <td>Avarua</td>\n",
       "      <td>-21.21</td>\n",
       "      <td>-159.78</td>\n",
       "      <td>75.2</td>\n",
       "      <td>83</td>\n",
       "      <td>100</td>\n",
       "      <td>8.05</td>\n",
       "      <td>CK</td>\n",
       "      <td>1604195735</td>\n",
       "    </tr>\n",
       "    <tr>\n",
       "      <th>1</th>\n",
       "      <td>Mariehamn</td>\n",
       "      <td>60.10</td>\n",
       "      <td>19.93</td>\n",
       "      <td>48.2</td>\n",
       "      <td>87</td>\n",
       "      <td>0</td>\n",
       "      <td>16.11</td>\n",
       "      <td>AX</td>\n",
       "      <td>1604195736</td>\n",
       "    </tr>\n",
       "    <tr>\n",
       "      <th>2</th>\n",
       "      <td>Port Elizabeth</td>\n",
       "      <td>-33.92</td>\n",
       "      <td>25.57</td>\n",
       "      <td>64.4</td>\n",
       "      <td>82</td>\n",
       "      <td>75</td>\n",
       "      <td>8.05</td>\n",
       "      <td>ZA</td>\n",
       "      <td>1604195736</td>\n",
       "    </tr>\n",
       "    <tr>\n",
       "      <th>3</th>\n",
       "      <td>Korla</td>\n",
       "      <td>41.76</td>\n",
       "      <td>86.15</td>\n",
       "      <td>48.0</td>\n",
       "      <td>72</td>\n",
       "      <td>0</td>\n",
       "      <td>5.01</td>\n",
       "      <td>CN</td>\n",
       "      <td>1604195736</td>\n",
       "    </tr>\n",
       "    <tr>\n",
       "      <th>4</th>\n",
       "      <td>Punta Arenas</td>\n",
       "      <td>-53.15</td>\n",
       "      <td>-70.92</td>\n",
       "      <td>46.4</td>\n",
       "      <td>81</td>\n",
       "      <td>0</td>\n",
       "      <td>3.36</td>\n",
       "      <td>CL</td>\n",
       "      <td>1604195736</td>\n",
       "    </tr>\n",
       "  </tbody>\n",
       "</table>\n",
       "</div>"
      ],
      "text/plain": [
       "             City    Lat     Lng  Max Temp  Humidity  Cloudiness  Wind Speed  \\\n",
       "0          Avarua -21.21 -159.78      75.2        83         100        8.05   \n",
       "1       Mariehamn  60.10   19.93      48.2        87           0       16.11   \n",
       "2  Port Elizabeth -33.92   25.57      64.4        82          75        8.05   \n",
       "3           Korla  41.76   86.15      48.0        72           0        5.01   \n",
       "4    Punta Arenas -53.15  -70.92      46.4        81           0        3.36   \n",
       "\n",
       "  Country        Date  \n",
       "0      CK  1604195735  \n",
       "1      AX  1604195736  \n",
       "2      ZA  1604195736  \n",
       "3      CN  1604195736  \n",
       "4      CL  1604195736  "
      ]
     },
     "execution_count": 18,
     "metadata": {},
     "output_type": "execute_result"
    }
   ],
   "source": [
    "city_weather_df.head()"
   ]
  },
  {
   "cell_type": "markdown",
   "metadata": {},
   "source": [
    "## Latitude vs. Humidity Plot"
   ]
  },
  {
   "cell_type": "code",
   "execution_count": 81,
   "metadata": {},
   "outputs": [
    {
     "data": {
      "image/png": "[encoded data removed]",
      "text/plain": [
       "<Figure size 432x288 with 1 Axes>"
      ]
     },
     "metadata": {
      "needs_background": "light"
     },
     "output_type": "display_data"
    }
   ],
   "source": [
    "latitude_to_plot = city_weather_df.loc[:,'Lat']\n",
    "humidity_to_plot = city_weather_df.loc[:,'Humidity']\n",
    "plt.title (\"Latitude vs. Humidity Plot\")\n",
    "plt.xlabel('Latitude')\n",
    "plt.ylabel('Humidity (%)')\n",
    "\n",
    "\n",
    "plt.scatter(latitude_to_plot,humidity_to_plot,marker = \"o\",color=\"lightblue\", edgecolors=\"b\",)\n",
    "plt.grid(b=None, which='major', axis='both')\n",
    "plt.savefig(\"Figures\\latitude_vs_humidity.png\")"
   ]
  },
  {
   "cell_type": "markdown",
   "metadata": {},
   "source": [
    "## Latitude vs. Cloudiness Plot"
   ]
  },
  {
   "cell_type": "code",
   "execution_count": 44,
   "metadata": {},
   "outputs": [
    {
     "data": {
      "image/png": "[encoded data removed]",
      "text/plain": [
       "<Figure size 432x288 with 1 Axes>"
      ]
     },
     "metadata": {
      "needs_background": "light"
     },
     "output_type": "display_data"
    }
   ],
   "source": [
    "cloudiness_to_plot = city_weather_df.loc[:,'Cloudiness']\n",
    "plt.title(\"Latitude vs. Cloudiness\")\n",
    "plt.xlabel(\"Latitude\")\n",
    "plt.ylabel(\"Cloudiness (%)\")\n",
    "\n",
    "plt.scatter(latitude_to_plot,cloudiness_to_plot,marker = \"o\",color=\"lightblue\", edgecolors=\"b\",)\n",
    "plt.grid(b=None, which='major', axis='both')\n",
    "plt.savefig(\"Figures\\latitude_vs_cloudiness.png\")"
   ]
  },
  {
   "cell_type": "markdown",
   "metadata": {},
   "source": [
    "## Latitude vs. Wind Speed Plot"
   ]
  },
  {
   "cell_type": "code",
   "execution_count": 45,
   "metadata": {},
   "outputs": [
    {
     "data": {
      "image/png": "[encoded data removed]",
      "text/plain": [
       "<Figure size 432x288 with 1 Axes>"
      ]
     },
     "metadata": {
      "needs_background": "light"
     },
     "output_type": "display_data"
    }
   ],
   "source": [
    "wind_speed_to_plot = city_weather_df.loc[:,'Wind Speed']\n",
    "plt.title(\"Latitude vs. Wind Speed\")\n",
    "plt.xlabel(\"Latitude\")\n",
    "plt.ylabel(\"Wind Speed (mph)\")\n",
    "\n",
    "plt.scatter(latitude_to_plot,wind_speed_to_plot,marker = \"o\",color=\"lightblue\", edgecolors=\"b\",)\n",
    "plt.grid(b=None, which='major', axis='both')\n"
   ]
  },
  {
   "cell_type": "markdown",
   "metadata": {},
   "source": [
    "## Linear Regression"
   ]
  },
  {
   "cell_type": "code",
   "execution_count": 50,
   "metadata": {},
   "outputs": [],
   "source": [
    "# create separate dataframes for northern and southern hemispheres\n",
    "northern_hem_df = city_weather_df.loc[city_weather_df['Lat']>=0]\n",
    "southern_hem_df = city_weather_df.loc[city_weather_df['Lat']<=0]"
   ]
  },
  {
   "cell_type": "markdown",
   "metadata": {},
   "source": [
    "####  Northern Hemisphere - Max Temp vs. Latitude Linear Regression"
   ]
  },
  {
   "cell_type": "code",
   "execution_count": 87,
   "metadata": {},
   "outputs": [],
   "source": [
    "# set variables for northern  latitudes and max temps\n",
    "north_lats = northern_hem_df.loc[:,'Lat']\n",
    "temp_north = northern_hem_df.loc[:,'Max Temp']\n",
    "\n",
    "# perform linear regression on northern hem lats vs. max temp\n",
    "(nt_slope,nt_int,nt_r,nt_p,nt_std_err)=stats.linregress(north_lats,temp_north)"
   ]
  },
  {
   "cell_type": "code",
   "execution_count": 88,
   "metadata": {},
   "outputs": [],
   "source": [
    "# create equation of line for above\n",
    "nt_fit = nt_slope * north_lats + nt_int\n",
    "line_eq = \"y = \"+str(round(nt_slope,2))+ \"x + \" + str(round(nt_int,2))"
   ]
  },
  {
   "cell_type": "code",
   "execution_count": 89,
   "metadata": {
    "scrolled": true
   },
   "outputs": [
    {
     "data": {
      "image/png": "[encoded data removed]",
      "text/plain": [
       "<Figure size 432x288 with 1 Axes>"
      ]
     },
     "metadata": {
      "needs_background": "light"
     },
     "output_type": "display_data"
    }
   ],
   "source": [
    "# plot the data and add line of regression\n",
    "\n",
    "plt.scatter(north_lats,temp_north)\n",
    "plt.plot(north_lats,nt_fit,\"r-\")\n",
    "plt.annotate(line_eq,(0,0),fontsize=15,color='red')\n",
    "plt.title(\"Northern Hemisphere - Max Temp vs. Latitude Linear Regression\")\n",
    "plt.xlabel('Latitude')\n",
    "plt.ylabel('Max Temp (°F)')\n",
    "plt.tight_layout()\n",
    "plt.savefig(r'C:\\Users\\Joe\\Documents\\Boot_Camp\\Homework\\Week_6\\06-Python-APIs\\python-api-challenge\\WeatherPy\\Figures\\North_MaxTemp_vs_Latitude.png')"
   ]
  },
  {
   "cell_type": "markdown",
   "metadata": {},
   "source": [
    "####  Southern Hemisphere - Max Temp vs. Latitude Linear Regression"
   ]
  },
  {
   "cell_type": "code",
   "execution_count": 94,
   "metadata": {},
   "outputs": [],
   "source": [
    "# Save variables for south latitudes\n",
    "south_lats = southern_hem_df.loc[:,'Lat']\n",
    "temp_south = southern_hem_df.loc[:,'Max Temp']\n",
    "# perform linear regression on southern hem lats vs. max temp\n",
    "(st_slope,st_int,st_r,st_p,st_std_err)=stats.linregress(south_lats,temp_south)"
   ]
  },
  {
   "cell_type": "code",
   "execution_count": 100,
   "metadata": {},
   "outputs": [],
   "source": [
    "# create equation of line for above\n",
    "st_fit = st_slope * south_lats + st_int\n",
    "line_eq2 = \"y = \"+str(round(st_slope,2))+ \"x + \" + str(round(st_int,2))"
   ]
  },
  {
   "cell_type": "code",
   "execution_count": 104,
   "metadata": {},
   "outputs": [
    {
     "data": {
      "image/png": "[encoded data removed]",
      "text/plain": [
       "<Figure size 432x288 with 1 Axes>"
      ]
     },
     "metadata": {
      "needs_background": "light"
     },
     "output_type": "display_data"
    }
   ],
   "source": [
    "# plot the data and add line of regression\n",
    "\n",
    "plt.scatter(south_lats,temp_south)\n",
    "plt.plot(south_lats,st_fit,\"r-\")\n",
    "plt.annotate(line_eq2,(-25,43),fontsize=15,color='red')\n",
    "plt.title(\"Southern Hemisphere - Max Temp vs. Latitude Linear Regression\")\n",
    "plt.xlabel('Latitude')\n",
    "plt.ylabel('Max Temp (°F)')\n",
    "\n",
    "plt.savefig(r'C:\\Users\\Joe\\Documents\\Boot_Camp\\Homework\\Week_6\\06-Python-APIs\\python-api-challenge\\WeatherPy\\Figures\\South_MaxTemp_vs_Latitude.png')"
   ]
  },
  {
   "cell_type": "markdown",
   "metadata": {},
   "source": [
    "####  Northern Hemisphere - Humidity (%) vs. Latitude Linear Regression"
   ]
  },
  {
   "cell_type": "code",
   "execution_count": 105,
   "metadata": {},
   "outputs": [],
   "source": [
    "# use north_lats from previous and create variable for humidity\n",
    "humidity_north = northern_hem_df.loc[:,'Humidity']\n",
    "\n",
    "# perform linear regression on northern hem lats vs. humidity\n",
    "(nh_slope,nh_int,nh_r,nh_p,nh_std_err)=stats.linregress(north_lats,humidity_north)\n"
   ]
  },
  {
   "cell_type": "code",
   "execution_count": 106,
   "metadata": {},
   "outputs": [],
   "source": [
    "# create equation of line for above\n",
    "nh_fit = nh_slope * north_lats + nh_int\n",
    "line_eq3 = \"y = \"+str(round(nh_slope,2))+ \"x + \" + str(round(nh_int,2))"
   ]
  },
  {
   "cell_type": "code",
   "execution_count": 117,
   "metadata": {},
   "outputs": [
    {
     "data": {
      "image/png": "[encoded data removed]",
      "text/plain": [
       "<Figure size 432x288 with 1 Axes>"
      ]
     },
     "metadata": {
      "needs_background": "light"
     },
     "output_type": "display_data"
    }
   ],
   "source": [
    "# plot the data and add line of regression\n",
    "\n",
    "plt.scatter(north_lats,humidity_north)\n",
    "plt.plot(north_lats,nh_fit,\"r-\")\n",
    "plt.annotate(line_eq3,(40,17),fontsize=15,color='red')\n",
    "plt.title(\"Northern Hemisphere - Humidity vs. Latitude Linear Regression\")\n",
    "plt.xlabel('Latitude')\n",
    "plt.ylabel('Humidity (%)')\n",
    "\n",
    "plt.savefig(r'C:\\Users\\Joe\\Documents\\Boot_Camp\\Homework\\Week_6\\06-Python-APIs\\python-api-challenge\\WeatherPy\\Figures\\North_Humidity_vs_Latitude.png')"
   ]
  },
  {
   "cell_type": "markdown",
   "metadata": {},
   "source": [
    "####  Southern Hemisphere - Humidity (%) vs. Latitude Linear Regression"
   ]
  },
  {
   "cell_type": "code",
   "execution_count": 114,
   "metadata": {},
   "outputs": [],
   "source": [
    "# use south_lats from previous and create variable for humidity\n",
    "humidity_south = southern_hem_df.loc[:,'Humidity']\n",
    "\n",
    "# perform linear regression on southern hem lats vs. humidity\n",
    "(sh_slope,sh_int,sh_r,sh_p,sh_std_err)=stats.linregress(south_lats,humidity_south)\n"
   ]
  },
  {
   "cell_type": "code",
   "execution_count": 115,
   "metadata": {},
   "outputs": [],
   "source": [
    "# create equation of line for above\n",
    "sh_fit = sh_slope * south_lats + sh_int\n",
    "line_eq4 = \"y = \"+str(round(sh_slope,2))+ \"x + \" + str(round(sh_int,2))"
   ]
  },
  {
   "cell_type": "code",
   "execution_count": 118,
   "metadata": {
    "scrolled": true
   },
   "outputs": [
    {
     "data": {
      "image/png": "[encoded data removed]",
      "text/plain": [
       "<Figure size 432x288 with 1 Axes>"
      ]
     },
     "metadata": {
      "needs_background": "light"
     },
     "output_type": "display_data"
    }
   ],
   "source": [
    "# plot the data and add line of regression\n",
    "\n",
    "plt.scatter(south_lats,humidity_south)\n",
    "plt.plot(south_lats,sh_fit,\"r-\")\n",
    "plt.annotate(line_eq4,(40,17),fontsize=15,color='red')\n",
    "plt.title(\"Southern Hemisphere - Humidity vs. Latitude Linear Regression\")\n",
    "plt.xlabel('Latitude')\n",
    "plt.ylabel('Humidity (%)')\n",
    "\n",
    "plt.savefig(r'C:\\Users\\Joe\\Documents\\Boot_Camp\\Homework\\Week_6\\06-Python-APIs\\python-api-challenge\\WeatherPy\\Figures\\South_Humidity_vs_Latitude.png')"
   ]
  },
  {
   "cell_type": "markdown",
   "metadata": {},
   "source": [
    "####  Northern Hemisphere - Cloudiness (%) vs. Latitude Linear Regression"
   ]
  },
  {
   "cell_type": "code",
   "execution_count": 120,
   "metadata": {},
   "outputs": [],
   "source": [
    "# use north_lats from previous and create variable for humidity\n",
    "cloudiness_north = northern_hem_df.loc[:,'Cloudiness']\n",
    "\n",
    "# perform linear regression on northern hem lats vs. humidity\n",
    "(nc_slope,nc_int,nc_r,nc_p,nc_std_err)=stats.linregress(north_lats,cloudiness_north)\n"
   ]
  },
  {
   "cell_type": "code",
   "execution_count": 121,
   "metadata": {},
   "outputs": [],
   "source": [
    "# create equation of line for above\n",
    "nc_fit = nc_slope * north_lats + nc_int\n",
    "line_eq5 = \"y = \"+str(round(nc_slope,2))+ \"x + \" + str(round(nc_int,2))"
   ]
  },
  {
   "cell_type": "code",
   "execution_count": 129,
   "metadata": {},
   "outputs": [
    {
     "data": {
      "image/png": "[encoded data removed]",
      "text/plain": [
       "<Figure size 432x288 with 1 Axes>"
      ]
     },
     "metadata": {
      "needs_background": "light"
     },
     "output_type": "display_data"
    }
   ],
   "source": [
    "# plot the data and add line of regression\n",
    "\n",
    "plt.scatter(north_lats,cloudiness_north)\n",
    "plt.plot(north_lats,nc_fit,\"r-\")\n",
    "plt.annotate(line_eq5,(42,25),fontsize=15,color='red')\n",
    "plt.title(\"Northern Hemisphere - Cloudiness vs. Latitude Linear Regression\")\n",
    "plt.xlabel('Latitude')\n",
    "plt.ylabel('Cloudiness (%)')\n",
    "\n",
    "plt.savefig(r'C:\\Users\\Joe\\Documents\\Boot_Camp\\Homework\\Week_6\\06-Python-APIs\\python-api-challenge\\WeatherPy\\Figures\\North_Cloudiness_vs_Latitude.png')"
   ]
  },
  {
   "cell_type": "markdown",
   "metadata": {},
   "source": [
    "####  Southern Hemisphere - Cloudiness (%) vs. Latitude Linear Regression"
   ]
  },
  {
   "cell_type": "code",
   "execution_count": 127,
   "metadata": {},
   "outputs": [],
   "source": [
    "# use north_lats from previous and create variable for cloudiness\n",
    "cloudiness_south = southern_hem_df.loc[:,'Cloudiness']\n",
    "\n",
    "# perform linear regression on northern hem lats vs. cloudiness\n",
    "(sc_slope,sc_int,sc_r,sc_p,nsc_std_err)=stats.linregress(south_lats,cloudiness_south)\n"
   ]
  },
  {
   "cell_type": "code",
   "execution_count": 128,
   "metadata": {},
   "outputs": [],
   "source": [
    "# create equation of line for above\n",
    "sc_fit = sc_slope * south_lats + nc_int\n",
    "line_eq6 = \"y = \"+str(round(sc_slope,2))+ \"x + \" + str(round(sc_int,2))"
   ]
  },
  {
   "cell_type": "code",
   "execution_count": 131,
   "metadata": {},
   "outputs": [
    {
     "data": {
      "image/png": "[encoded data removed]",
      "text/plain": [
       "<Figure size 432x288 with 1 Axes>"
      ]
     },
     "metadata": {
      "needs_background": "light"
     },
     "output_type": "display_data"
    }
   ],
   "source": [
    "# plot the data and add line of regression\n",
    "\n",
    "plt.scatter(south_lats,cloudiness_south)\n",
    "plt.plot(south_lats,sc_fit,\"r-\")\n",
    "plt.annotate(line_eq6,(42,25),fontsize=15,color='red')\n",
    "plt.title(\"Southern Hemisphere - Cloudiness vs. Latitude Linear Regression\")\n",
    "plt.xlabel('Latitude')\n",
    "plt.ylabel('Cloudiness (%)')\n",
    "\n",
    "plt.savefig(r'C:\\Users\\Joe\\Documents\\Boot_Camp\\Homework\\Week_6\\06-Python-APIs\\python-api-challenge\\WeatherPy\\Figures\\South_Cloudiness_vs_Latitude.png')"
   ]
  },
  {
   "cell_type": "markdown",
   "metadata": {},
   "source": [
    "####  Northern Hemisphere - Wind Speed (mph) vs. Latitude Linear Regression"
   ]
  },
  {
   "cell_type": "code",
   "execution_count": 132,
   "metadata": {},
   "outputs": [],
   "source": [
    "# use north_lats from previous and create variable for Wind Speed\n",
    "wind_speed_north = northern_hem_df.loc[:,'Wind Speed']\n",
    "\n",
    "# perform linear regression on northern hem lats vs. humidity\n",
    "(nw_slope,nw_int,nw_r,nw_p,nw_std_err)=stats.linregress(north_lats,wind_speed_north)\n"
   ]
  },
  {
   "cell_type": "code",
   "execution_count": 133,
   "metadata": {},
   "outputs": [],
   "source": [
    "# create equation of line for above\n",
    "nw_fit = nw_slope * north_lats + nw_int\n",
    "line_eq7 = \"y = \"+str(round(nw_slope,2))+ \"x + \" + str(round(nw_int,2))"
   ]
  },
  {
   "cell_type": "code",
   "execution_count": 135,
   "metadata": {},
   "outputs": [
    {
     "data": {
      "image/png": "[encoded data removed]",
      "text/plain": [
       "<Figure size 432x288 with 1 Axes>"
      ]
     },
     "metadata": {
      "needs_background": "light"
     },
     "output_type": "display_data"
    }
   ],
   "source": [
    "# plot the data and add line of regression\n",
    "\n",
    "plt.scatter(north_lats,wind_speed_north)\n",
    "plt.plot(north_lats,nw_fit,\"r-\")\n",
    "plt.annotate(line_eq7,(10,40),fontsize=15,color='red')\n",
    "plt.title(\"Northern Hemisphere - Wind Speed (mph) vs. Latitude Linear Regression\")\n",
    "plt.xlabel('Latitude')\n",
    "plt.ylabel('Wind Speed (mph)')\n",
    "\n",
    "plt.savefig(r'C:\\Users\\Joe\\Documents\\Boot_Camp\\Homework\\Week_6\\06-Python-APIs\\python-api-challenge\\WeatherPy\\Figures\\North_Wind_Speed_vs_Latitude.png')"
   ]
  },
  {
   "cell_type": "markdown",
   "metadata": {},
   "source": [
    "####  Southern Hemisphere - Wind Speed (mph) vs. Latitude Linear Regression"
   ]
  },
  {
   "cell_type": "code",
   "execution_count": 136,
   "metadata": {},
   "outputs": [],
   "source": [
    "# use south_lats from previous and create variable for Wind Speed\n",
    "wind_speed_south = southern_hem_df.loc[:,'Wind Speed']\n",
    "\n",
    "# perform linear regression on northern hem lats vs. humidity\n",
    "(sw_slope,sw_int,sw_r,sw_p,sw_std_err)=stats.linregress(south_lats,wind_speed_south)\n"
   ]
  },
  {
   "cell_type": "code",
   "execution_count": 137,
   "metadata": {},
   "outputs": [],
   "source": [
    "# create equation of line for above\n",
    "sw_fit = sw_slope * south_lats + sw_int\n",
    "line_eq8 = \"y = \"+str(round(sw_slope,2))+ \"x + \" + str(round(sw_int,2))"
   ]
  },
  {
   "cell_type": "code",
   "execution_count": 139,
   "metadata": {},
   "outputs": [
    {
     "data": {
      "image/png": "[encoded data removed]",
      "text/plain": [
       "<Figure size 432x288 with 1 Axes>"
      ]
     },
     "metadata": {
      "needs_background": "light"
     },
     "output_type": "display_data"
    }
   ],
   "source": [
    "# plot the data and add line of regression\n",
    "\n",
    "plt.scatter(south_lats,wind_speed_south)\n",
    "plt.plot(south_lats,sw_fit,\"r-\")\n",
    "plt.annotate(line_eq7,(-50,14),fontsize=15,color='red')\n",
    "plt.title(\"Southern Hemisphere - Wind Speed (mph) vs. Latitude Linear Regression\")\n",
    "plt.xlabel('Latitude')\n",
    "plt.ylabel('Wind Speed (mph)')\n",
    "\n",
    "plt.savefig(r'C:\\Users\\Joe\\Documents\\Boot_Camp\\Homework\\Week_6\\06-Python-APIs\\python-api-challenge\\WeatherPy\\Figures\\South_Wind_Speed_vs_Latitude.png')"
   ]
  }
 ],
 "metadata": {
  "anaconda-cloud": {},
  "kernel_info": {
   "name": "python3"
  },
  "kernelspec": {
   "display_name": "Python [conda env:PythonData] *",
   "language": "python",
   "name": "conda-env-PythonData-py"
  },
  "language_info": {
   "codemirror_mode": {
    "name": "ipython",
    "version": 3
   },
   "file_extension": ".py",
   "mimetype": "text/x-python",
   "name": "python",
   "nbconvert_exporter": "python",
   "pygments_lexer": "ipython3",
   "version": "3.6.12"
  },
  "latex_envs": {
   "LaTeX_envs_menu_present": true,
   "autoclose": false,
   "autocomplete": true,
   "bibliofile": "biblio.bib",
   "cite_by": "apalike",
   "current_citInitial": 1,
   "eqLabelWithNumbers": true,
   "eqNumInitial": 1,
   "hotkeys": {
    "equation": "Ctrl-E",
    "itemize": "Ctrl-I"
   },
   "labels_anchors": false,
   "latex_user_defs": false,
   "report_style_numbering": false,
   "user_envs_cfg": false
  },
  "nteract": {
   "version": "0.12.3"
  }
 },
 "nbformat": 4,
 "nbformat_minor": 4
}
