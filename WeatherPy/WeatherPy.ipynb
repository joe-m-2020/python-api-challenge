{
 "cells": [
  {
   "cell_type": "markdown",
   "metadata": {},
   "source": [
    "# WeatherPy\n",
    "----\n",
    "\n",
    "#### Note\n",
    "* Instructions have been included for each segment. You do not have to follow them exactly, but they are included to help you think through the steps."
   ]
  },
  {
   "cell_type": "code",
   "execution_count": 36,
   "metadata": {
    "scrolled": true
   },
   "outputs": [],
   "source": [
    "import matplotlib.pyplot as plt\n",
    "import requests\n",
    "import scipy.stats as st\n",
    "import numpy as np\n",
    "import json\n",
    "import pandas as pd\n",
    "from api_keys import weather_api_key\n",
    "import random\n",
    "from citipy import citipy\n"
   ]
  },
  {
   "cell_type": "code",
   "execution_count": 45,
   "metadata": {},
   "outputs": [],
   "source": [
    "url = \"http://api.openweathermap.org/data/2.5/weather?\"\n",
    "units= \"imperial\"\n"
   ]
  },
  {
   "cell_type": "markdown",
   "metadata": {},
   "source": [
    "## Generate Cities List"
   ]
  },
  {
   "cell_type": "code",
   "execution_count": 72,
   "metadata": {},
   "outputs": [],
   "source": [
    "# for index,value in enumerate(cities[:5]):\n",
    "#     print(index,value)\n",
    "# for index in range(len(cities[:5])):\n",
    "#     print(index,cities[index])\n",
    "# for city in cities[:5]:\n",
    "#     print(city)"
   ]
  },
  {
   "cell_type": "code",
   "execution_count": 68,
   "metadata": {},
   "outputs": [
    {
     "name": "stdout",
     "output_type": "stream",
     "text": [
      "Beginning Data Retreval\n",
      "----------------------------------------------------------\n",
      "Processing Record 1 of Set 1: surgut\n",
      "Processing Record 2 of Set 1: puerto ayora\n",
      "Processing Record 3 of Set 1: north charleston\n",
      "Processing Record 4 of Set 1: norman wells\n",
      "----------------------------------------------------------\n",
      "Data Retrieval Complete\n",
      "----------------------------------------------------------\n"
     ]
    }
   ],
   "source": [
    "# lists for latitudes and longitudes and cities\n",
    "\n",
    "lat_lons = []\n",
    "cities = []\n",
    "\n",
    "# Use random to generate and add to lists random latitude and longitudes and citipy to find\n",
    "# closest city and add to lists\n",
    "lats = np.random.uniform(low=-90,high=90, size =1500)\n",
    "lons = np.random.uniform(low=-180,high=180,size=1500)\n",
    "lat_lons = zip(lats,lons)\n",
    "\n",
    "\n",
    "for lat_lon in lat_lons:\n",
    "    city = citipy.nearest_city(lat_lon[0],lat_lon[1]).city_name\n",
    "    if city not in cities:\n",
    "        cities.append(city)\n",
    "            \n",
    "               \n",
    "# format open weather url               \n",
    "query_url = f\"{url}appid={weather_api_key}&units={units}&q=\"\n",
    "\n",
    "# create lists to collect metadata\n",
    "city_name = []\n",
    "lat_list = []\n",
    "lon_list = []\n",
    "max_temp = []\n",
    "humidity = []\n",
    "cloudiness = []\n",
    "wind_speed = []\n",
    "country = []\n",
    "date = []\n",
    "\n",
    "print(\"Beginning Data Retreval\")\n",
    "print('----------------------------------------------------------')\n",
    "# use enumerate for \n",
    "index_count = 0\n",
    "set_count = 1\n",
    "for city in cities[:4]:\n",
    "    try:\n",
    "        response = requests.get(f\"{query_url}{city}\").json()\n",
    "        city_name.append(response['name'])\n",
    "        lat_list.append(response['coord']['lat'])\n",
    "        lon_list.append(response['coord']['lon'])\n",
    "        max_temp.append(response['main']['temp_max'])\n",
    "        humidity.append(response['main']['humidity'])\n",
    "        cloudiness.append(response['clouds']['all'])\n",
    "        wind_speed.append(response['wind']['speed'])\n",
    "        country.append(response['sys']['country'])\n",
    "        date.append(response['dt'])\n",
    "        if index_count > 49:\n",
    "            index_count=0\n",
    "            set_count+=1\n",
    "        else:\n",
    "            index_count+=1\n",
    "        print(f\"Processing Record {index_count} of Set {set_count}: {city}\")\n",
    "    except(KeyError, IndexError):\n",
    "        print(\"City not found. Skipping...\")\n",
    "print('----------------------------------------------------------')\n",
    "print('Data Retrieval Complete')\n",
    "print('----------------------------------------------------------')"
   ]
  },
  {
   "cell_type": "markdown",
   "metadata": {},
   "source": [
    "### Perform API Calls\n",
    "* Perform a weather check on each city using a series of successive API calls.\n",
    "* Include a print log of each city as it'sbeing processed (with the city number and city name).\n"
   ]
  },
  {
   "cell_type": "code",
   "execution_count": null,
   "metadata": {
    "scrolled": true
   },
   "outputs": [],
   "source": []
  },
  {
   "cell_type": "markdown",
   "metadata": {},
   "source": [
    "### Convert Raw Data to DataFrame\n",
    "* Export the city data into a .csv.\n",
    "* Display the DataFrame"
   ]
  },
  {
   "cell_type": "code",
   "execution_count": 49,
   "metadata": {},
   "outputs": [
    {
     "data": {
      "text/html": [
       "<div>\n",
       "<style scoped>\n",
       "    .dataframe tbody tr th:only-of-type {\n",
       "        vertical-align: middle;\n",
       "    }\n",
       "\n",
       "    .dataframe tbody tr th {\n",
       "        vertical-align: top;\n",
       "    }\n",
       "\n",
       "    .dataframe thead th {\n",
       "        text-align: right;\n",
       "    }\n",
       "</style>\n",
       "<table border=\"1\" class=\"dataframe\">\n",
       "  <thead>\n",
       "    <tr style=\"text-align: right;\">\n",
       "      <th></th>\n",
       "      <th>City</th>\n",
       "      <th>Lat</th>\n",
       "      <th>Lng</th>\n",
       "      <th>Max Temp</th>\n",
       "      <th>Humidity</th>\n",
       "      <th>Cloudiness</th>\n",
       "      <th>Wind Speed</th>\n",
       "      <th>Country</th>\n",
       "      <th>Date</th>\n",
       "    </tr>\n",
       "  </thead>\n",
       "  <tbody>\n",
       "    <tr>\n",
       "      <th>0</th>\n",
       "      <td>Busselton</td>\n",
       "      <td>-33.65</td>\n",
       "      <td>115.33</td>\n",
       "      <td>68.16</td>\n",
       "      <td>65</td>\n",
       "      <td>100</td>\n",
       "      <td>12.24</td>\n",
       "      <td>AU</td>\n",
       "      <td>1604121475</td>\n",
       "    </tr>\n",
       "    <tr>\n",
       "      <th>1</th>\n",
       "      <td>Fremont</td>\n",
       "      <td>37.55</td>\n",
       "      <td>-121.99</td>\n",
       "      <td>57.99</td>\n",
       "      <td>71</td>\n",
       "      <td>1</td>\n",
       "      <td>0.43</td>\n",
       "      <td>US</td>\n",
       "      <td>1604121410</td>\n",
       "    </tr>\n",
       "    <tr>\n",
       "      <th>2</th>\n",
       "      <td>Poconé</td>\n",
       "      <td>-16.26</td>\n",
       "      <td>-56.62</td>\n",
       "      <td>71.10</td>\n",
       "      <td>74</td>\n",
       "      <td>100</td>\n",
       "      <td>4.99</td>\n",
       "      <td>BR</td>\n",
       "      <td>1604121607</td>\n",
       "    </tr>\n",
       "    <tr>\n",
       "      <th>3</th>\n",
       "      <td>Hermanus</td>\n",
       "      <td>-34.42</td>\n",
       "      <td>19.23</td>\n",
       "      <td>55.00</td>\n",
       "      <td>79</td>\n",
       "      <td>0</td>\n",
       "      <td>4.00</td>\n",
       "      <td>ZA</td>\n",
       "      <td>1604121607</td>\n",
       "    </tr>\n",
       "    <tr>\n",
       "      <th>4</th>\n",
       "      <td>Butaritari</td>\n",
       "      <td>3.07</td>\n",
       "      <td>172.79</td>\n",
       "      <td>82.45</td>\n",
       "      <td>76</td>\n",
       "      <td>39</td>\n",
       "      <td>19.55</td>\n",
       "      <td>KI</td>\n",
       "      <td>1604121607</td>\n",
       "    </tr>\n",
       "    <tr>\n",
       "      <th>...</th>\n",
       "      <td>...</td>\n",
       "      <td>...</td>\n",
       "      <td>...</td>\n",
       "      <td>...</td>\n",
       "      <td>...</td>\n",
       "      <td>...</td>\n",
       "      <td>...</td>\n",
       "      <td>...</td>\n",
       "      <td>...</td>\n",
       "    </tr>\n",
       "    <tr>\n",
       "      <th>554</th>\n",
       "      <td>Flin Flon</td>\n",
       "      <td>54.77</td>\n",
       "      <td>-101.86</td>\n",
       "      <td>20.98</td>\n",
       "      <td>97</td>\n",
       "      <td>100</td>\n",
       "      <td>17.40</td>\n",
       "      <td>CA</td>\n",
       "      <td>1604121706</td>\n",
       "    </tr>\n",
       "    <tr>\n",
       "      <th>555</th>\n",
       "      <td>Rawson</td>\n",
       "      <td>-43.30</td>\n",
       "      <td>-65.10</td>\n",
       "      <td>59.38</td>\n",
       "      <td>42</td>\n",
       "      <td>0</td>\n",
       "      <td>12.46</td>\n",
       "      <td>AR</td>\n",
       "      <td>1604121647</td>\n",
       "    </tr>\n",
       "    <tr>\n",
       "      <th>556</th>\n",
       "      <td>Gladstone</td>\n",
       "      <td>-23.85</td>\n",
       "      <td>151.25</td>\n",
       "      <td>86.00</td>\n",
       "      <td>51</td>\n",
       "      <td>4</td>\n",
       "      <td>11.41</td>\n",
       "      <td>AU</td>\n",
       "      <td>1604121706</td>\n",
       "    </tr>\n",
       "    <tr>\n",
       "      <th>557</th>\n",
       "      <td>Khuzhir</td>\n",
       "      <td>53.19</td>\n",
       "      <td>107.34</td>\n",
       "      <td>31.71</td>\n",
       "      <td>86</td>\n",
       "      <td>100</td>\n",
       "      <td>8.46</td>\n",
       "      <td>RU</td>\n",
       "      <td>1604121706</td>\n",
       "    </tr>\n",
       "    <tr>\n",
       "      <th>558</th>\n",
       "      <td>Alekseyevsk</td>\n",
       "      <td>57.84</td>\n",
       "      <td>108.35</td>\n",
       "      <td>23.59</td>\n",
       "      <td>90</td>\n",
       "      <td>100</td>\n",
       "      <td>2.17</td>\n",
       "      <td>RU</td>\n",
       "      <td>1604121706</td>\n",
       "    </tr>\n",
       "  </tbody>\n",
       "</table>\n",
       "<p>559 rows × 9 columns</p>\n",
       "</div>"
      ],
      "text/plain": [
       "            City    Lat     Lng  Max Temp  Humidity  Cloudiness  Wind Speed  \\\n",
       "0      Busselton -33.65  115.33     68.16        65         100       12.24   \n",
       "1        Fremont  37.55 -121.99     57.99        71           1        0.43   \n",
       "2         Poconé -16.26  -56.62     71.10        74         100        4.99   \n",
       "3       Hermanus -34.42   19.23     55.00        79           0        4.00   \n",
       "4     Butaritari   3.07  172.79     82.45        76          39       19.55   \n",
       "..           ...    ...     ...       ...       ...         ...         ...   \n",
       "554    Flin Flon  54.77 -101.86     20.98        97         100       17.40   \n",
       "555       Rawson -43.30  -65.10     59.38        42           0       12.46   \n",
       "556    Gladstone -23.85  151.25     86.00        51           4       11.41   \n",
       "557      Khuzhir  53.19  107.34     31.71        86         100        8.46   \n",
       "558  Alekseyevsk  57.84  108.35     23.59        90         100        2.17   \n",
       "\n",
       "    Country        Date  \n",
       "0        AU  1604121475  \n",
       "1        US  1604121410  \n",
       "2        BR  1604121607  \n",
       "3        ZA  1604121607  \n",
       "4        KI  1604121607  \n",
       "..      ...         ...  \n",
       "554      CA  1604121706  \n",
       "555      AR  1604121647  \n",
       "556      AU  1604121706  \n",
       "557      RU  1604121706  \n",
       "558      RU  1604121706  \n",
       "\n",
       "[559 rows x 9 columns]"
      ]
     },
     "execution_count": 49,
     "metadata": {},
     "output_type": "execute_result"
    }
   ],
   "source": [
    "\n",
    "data_dict = {\"City\":city_name,'Lat':lat_list,'Lng':lon_list,'Max Temp':max_temp,\n",
    "            'Humidity':humidity,'Cloudiness':cloudiness,'Wind Speed':wind_speed,\n",
    "            'Country':country,'Date':date}\n",
    "city_weather_df = pd.DataFrame(data_dict)\n",
    "\n",
    "city_weather_df.to_csv(r'C:\\Users\\Joe\\Documents\\Boot_Camp\\Homework\\Week_6\\06-Python-APIs\\python-api-challenge\\WeatherPy\\WeatherPy.csv', index = False)\n",
    "\n",
    "\n",
    "city_weather_df\n"
   ]
  },
  {
   "cell_type": "code",
   "execution_count": null,
   "metadata": {},
   "outputs": [],
   "source": []
  },
  {
   "cell_type": "markdown",
   "metadata": {},
   "source": [
    "## Inspect the data and remove the cities where the humidity > 100%.\n",
    "----\n",
    "Skip this step if there are no cities that have humidity > 100%. "
   ]
  },
  {
   "cell_type": "code",
   "execution_count": null,
   "metadata": {},
   "outputs": [],
   "source": [
    "city_weather_df['Humidity'] = city_weather_df['Humidity'].astype(int)"
   ]
  },
  {
   "cell_type": "code",
   "execution_count": 73,
   "metadata": {},
   "outputs": [
    {
     "data": {
      "text/html": [
       "<div>\n",
       "<style scoped>\n",
       "    .dataframe tbody tr th:only-of-type {\n",
       "        vertical-align: middle;\n",
       "    }\n",
       "\n",
       "    .dataframe tbody tr th {\n",
       "        vertical-align: top;\n",
       "    }\n",
       "\n",
       "    .dataframe thead th {\n",
       "        text-align: right;\n",
       "    }\n",
       "</style>\n",
       "<table border=\"1\" class=\"dataframe\">\n",
       "  <thead>\n",
       "    <tr style=\"text-align: right;\">\n",
       "      <th></th>\n",
       "      <th>City</th>\n",
       "      <th>Lat</th>\n",
       "      <th>Lng</th>\n",
       "      <th>Max Temp</th>\n",
       "      <th>Humidity</th>\n",
       "      <th>Cloudiness</th>\n",
       "      <th>Wind Speed</th>\n",
       "      <th>Country</th>\n",
       "      <th>Date</th>\n",
       "    </tr>\n",
       "  </thead>\n",
       "  <tbody>\n",
       "    <tr>\n",
       "      <th>0</th>\n",
       "      <td>Busselton</td>\n",
       "      <td>-33.65</td>\n",
       "      <td>115.33</td>\n",
       "      <td>68.16</td>\n",
       "      <td>65</td>\n",
       "      <td>100</td>\n",
       "      <td>12.24</td>\n",
       "      <td>AU</td>\n",
       "      <td>1604121475</td>\n",
       "    </tr>\n",
       "    <tr>\n",
       "      <th>1</th>\n",
       "      <td>Fremont</td>\n",
       "      <td>37.55</td>\n",
       "      <td>-121.99</td>\n",
       "      <td>57.99</td>\n",
       "      <td>71</td>\n",
       "      <td>1</td>\n",
       "      <td>0.43</td>\n",
       "      <td>US</td>\n",
       "      <td>1604121410</td>\n",
       "    </tr>\n",
       "    <tr>\n",
       "      <th>2</th>\n",
       "      <td>Poconé</td>\n",
       "      <td>-16.26</td>\n",
       "      <td>-56.62</td>\n",
       "      <td>71.10</td>\n",
       "      <td>74</td>\n",
       "      <td>100</td>\n",
       "      <td>4.99</td>\n",
       "      <td>BR</td>\n",
       "      <td>1604121607</td>\n",
       "    </tr>\n",
       "    <tr>\n",
       "      <th>3</th>\n",
       "      <td>Hermanus</td>\n",
       "      <td>-34.42</td>\n",
       "      <td>19.23</td>\n",
       "      <td>55.00</td>\n",
       "      <td>79</td>\n",
       "      <td>0</td>\n",
       "      <td>4.00</td>\n",
       "      <td>ZA</td>\n",
       "      <td>1604121607</td>\n",
       "    </tr>\n",
       "    <tr>\n",
       "      <th>4</th>\n",
       "      <td>Butaritari</td>\n",
       "      <td>3.07</td>\n",
       "      <td>172.79</td>\n",
       "      <td>82.45</td>\n",
       "      <td>76</td>\n",
       "      <td>39</td>\n",
       "      <td>19.55</td>\n",
       "      <td>KI</td>\n",
       "      <td>1604121607</td>\n",
       "    </tr>\n",
       "  </tbody>\n",
       "</table>\n",
       "</div>"
      ],
      "text/plain": [
       "         City    Lat     Lng  Max Temp  Humidity  Cloudiness  Wind Speed  \\\n",
       "0   Busselton -33.65  115.33     68.16        65         100       12.24   \n",
       "1     Fremont  37.55 -121.99     57.99        71           1        0.43   \n",
       "2      Poconé -16.26  -56.62     71.10        74         100        4.99   \n",
       "3    Hermanus -34.42   19.23     55.00        79           0        4.00   \n",
       "4  Butaritari   3.07  172.79     82.45        76          39       19.55   \n",
       "\n",
       "  Country        Date  \n",
       "0      AU  1604121475  \n",
       "1      US  1604121410  \n",
       "2      BR  1604121607  \n",
       "3      ZA  1604121607  \n",
       "4      KI  1604121607  "
      ]
     },
     "execution_count": 73,
     "metadata": {},
     "output_type": "execute_result"
    }
   ],
   "source": [
    "city_weather_df.head()\n",
    "#.loc\n",
    "#grouby()"
   ]
  },
  {
   "cell_type": "code",
   "execution_count": 80,
   "metadata": {},
   "outputs": [
    {
     "data": {
      "text/html": [
       "<div>\n",
       "<style scoped>\n",
       "    .dataframe tbody tr th:only-of-type {\n",
       "        vertical-align: middle;\n",
       "    }\n",
       "\n",
       "    .dataframe tbody tr th {\n",
       "        vertical-align: top;\n",
       "    }\n",
       "\n",
       "    .dataframe thead th {\n",
       "        text-align: right;\n",
       "    }\n",
       "</style>\n",
       "<table border=\"1\" class=\"dataframe\">\n",
       "  <thead>\n",
       "    <tr style=\"text-align: right;\">\n",
       "      <th></th>\n",
       "      <th>City</th>\n",
       "      <th>Lat</th>\n",
       "      <th>Lng</th>\n",
       "      <th>Max Temp</th>\n",
       "      <th>Humidity</th>\n",
       "      <th>Cloudiness</th>\n",
       "      <th>Wind Speed</th>\n",
       "      <th>Country</th>\n",
       "      <th>Date</th>\n",
       "    </tr>\n",
       "  </thead>\n",
       "  <tbody>\n",
       "    <tr>\n",
       "      <th>54</th>\n",
       "      <td>Helena</td>\n",
       "      <td>46.59</td>\n",
       "      <td>-112.04</td>\n",
       "      <td>48.20</td>\n",
       "      <td>42</td>\n",
       "      <td>90</td>\n",
       "      <td>13.87</td>\n",
       "      <td>US</td>\n",
       "      <td>1604121611</td>\n",
       "    </tr>\n",
       "    <tr>\n",
       "      <th>92</th>\n",
       "      <td>Jidong</td>\n",
       "      <td>45.22</td>\n",
       "      <td>131.08</td>\n",
       "      <td>53.11</td>\n",
       "      <td>40</td>\n",
       "      <td>100</td>\n",
       "      <td>9.73</td>\n",
       "      <td>CN</td>\n",
       "      <td>1604121624</td>\n",
       "    </tr>\n",
       "    <tr>\n",
       "      <th>225</th>\n",
       "      <td>Yumen</td>\n",
       "      <td>40.28</td>\n",
       "      <td>97.20</td>\n",
       "      <td>48.74</td>\n",
       "      <td>43</td>\n",
       "      <td>99</td>\n",
       "      <td>20.40</td>\n",
       "      <td>CN</td>\n",
       "      <td>1604121646</td>\n",
       "    </tr>\n",
       "    <tr>\n",
       "      <th>299</th>\n",
       "      <td>Tsaratanana</td>\n",
       "      <td>-16.78</td>\n",
       "      <td>47.65</td>\n",
       "      <td>71.96</td>\n",
       "      <td>45</td>\n",
       "      <td>78</td>\n",
       "      <td>13.76</td>\n",
       "      <td>MG</td>\n",
       "      <td>1604121660</td>\n",
       "    </tr>\n",
       "    <tr>\n",
       "      <th>327</th>\n",
       "      <td>Mildura</td>\n",
       "      <td>-34.20</td>\n",
       "      <td>142.15</td>\n",
       "      <td>73.00</td>\n",
       "      <td>46</td>\n",
       "      <td>90</td>\n",
       "      <td>11.41</td>\n",
       "      <td>AU</td>\n",
       "      <td>1604121407</td>\n",
       "    </tr>\n",
       "    <tr>\n",
       "      <th>357</th>\n",
       "      <td>Katobu</td>\n",
       "      <td>-4.94</td>\n",
       "      <td>122.53</td>\n",
       "      <td>91.15</td>\n",
       "      <td>48</td>\n",
       "      <td>87</td>\n",
       "      <td>1.54</td>\n",
       "      <td>ID</td>\n",
       "      <td>1604121671</td>\n",
       "    </tr>\n",
       "    <tr>\n",
       "      <th>443</th>\n",
       "      <td>Tezu</td>\n",
       "      <td>27.92</td>\n",
       "      <td>96.17</td>\n",
       "      <td>82.42</td>\n",
       "      <td>44</td>\n",
       "      <td>92</td>\n",
       "      <td>1.92</td>\n",
       "      <td>IN</td>\n",
       "      <td>1604121687</td>\n",
       "    </tr>\n",
       "  </tbody>\n",
       "</table>\n",
       "</div>"
      ],
      "text/plain": [
       "            City    Lat     Lng  Max Temp  Humidity  Cloudiness  Wind Speed  \\\n",
       "54        Helena  46.59 -112.04     48.20        42          90       13.87   \n",
       "92        Jidong  45.22  131.08     53.11        40         100        9.73   \n",
       "225        Yumen  40.28   97.20     48.74        43          99       20.40   \n",
       "299  Tsaratanana -16.78   47.65     71.96        45          78       13.76   \n",
       "327      Mildura -34.20  142.15     73.00        46          90       11.41   \n",
       "357       Katobu  -4.94  122.53     91.15        48          87        1.54   \n",
       "443         Tezu  27.92   96.17     82.42        44          92        1.92   \n",
       "\n",
       "    Country        Date  \n",
       "54       US  1604121611  \n",
       "92       CN  1604121624  \n",
       "225      CN  1604121646  \n",
       "299      MG  1604121660  \n",
       "327      AU  1604121407  \n",
       "357      ID  1604121671  \n",
       "443      IN  1604121687  "
      ]
     },
     "execution_count": 80,
     "metadata": {},
     "output_type": "execute_result"
    }
   ],
   "source": [
    "# city_weather_df.loc[ 2,\"Lng\" ]\n",
    "# city_weather_df.loc[ : ,\"Lng\" ]\n",
    "# city_weather_df.loc[1:2, 'Lng':'Max Temp']\n",
    "# city_weather_df.loc[city_weather_df[\"Humidity\"]<50 ,:]\n",
    "city_weather_df.loc[(city_weather_df[\"Humidity\"]<50) & (city_weather_df[\"Cloudiness\"]>75),:]\n"
   ]
  },
  {
   "cell_type": "code",
   "execution_count": 63,
   "metadata": {},
   "outputs": [
    {
     "ename": "SyntaxError",
     "evalue": "'return' outside function (<ipython-input-63-dc2fc7232f96>, line 5)",
     "output_type": "error",
     "traceback": [
      "\u001b[1;36m  File \u001b[1;32m\"<ipython-input-63-dc2fc7232f96>\"\u001b[1;36m, line \u001b[1;32m5\u001b[0m\n\u001b[1;33m    return breakpoint\u001b[0m\n\u001b[1;37m    ^\u001b[0m\n\u001b[1;31mSyntaxError\u001b[0m\u001b[1;31m:\u001b[0m 'return' outside function\n"
     ]
    }
   ],
   "source": [
    "#  Get the indices of cities that have humidity over 100%.\n",
    "# index of matching element \n",
    "humidity_high = city_weather_df.loc[\"Humidity\"]"
   ]
  },
  {
   "cell_type": "code",
   "execution_count": null,
   "metadata": {},
   "outputs": [],
   "source": [
    "# Make a new DataFrame equal to the city data to drop all humidity outliers by index.\n",
    "# Passing \"inplace=False\" will make a copy of the city_data DataFrame, which we call \"clean_city_data\".\n"
   ]
  },
  {
   "cell_type": "code",
   "execution_count": null,
   "metadata": {},
   "outputs": [],
   "source": [
    "\n"
   ]
  },
  {
   "cell_type": "markdown",
   "metadata": {},
   "source": [
    "## Plotting the Data\n",
    "* Use proper labeling of the plots using plot titles (including date of analysis) and axes labels.\n",
    "* Save the plotted figures as .pngs."
   ]
  },
  {
   "cell_type": "markdown",
   "metadata": {},
   "source": [
    "## Latitude vs. Temperature Plot"
   ]
  },
  {
   "cell_type": "code",
   "execution_count": null,
   "metadata": {
    "scrolled": true
   },
   "outputs": [],
   "source": []
  },
  {
   "cell_type": "markdown",
   "metadata": {},
   "source": [
    "## Latitude vs. Humidity Plot"
   ]
  },
  {
   "cell_type": "code",
   "execution_count": null,
   "metadata": {},
   "outputs": [],
   "source": []
  },
  {
   "cell_type": "markdown",
   "metadata": {},
   "source": [
    "## Latitude vs. Cloudiness Plot"
   ]
  },
  {
   "cell_type": "code",
   "execution_count": null,
   "metadata": {},
   "outputs": [],
   "source": []
  },
  {
   "cell_type": "markdown",
   "metadata": {},
   "source": [
    "## Latitude vs. Wind Speed Plot"
   ]
  },
  {
   "cell_type": "code",
   "execution_count": null,
   "metadata": {},
   "outputs": [],
   "source": []
  },
  {
   "cell_type": "markdown",
   "metadata": {},
   "source": [
    "## Linear Regression"
   ]
  },
  {
   "cell_type": "code",
   "execution_count": null,
   "metadata": {},
   "outputs": [],
   "source": []
  },
  {
   "cell_type": "markdown",
   "metadata": {},
   "source": [
    "####  Northern Hemisphere - Max Temp vs. Latitude Linear Regression"
   ]
  },
  {
   "cell_type": "code",
   "execution_count": null,
   "metadata": {},
   "outputs": [],
   "source": []
  },
  {
   "cell_type": "markdown",
   "metadata": {},
   "source": [
    "####  Southern Hemisphere - Max Temp vs. Latitude Linear Regression"
   ]
  },
  {
   "cell_type": "code",
   "execution_count": null,
   "metadata": {},
   "outputs": [],
   "source": []
  },
  {
   "cell_type": "markdown",
   "metadata": {},
   "source": [
    "####  Northern Hemisphere - Humidity (%) vs. Latitude Linear Regression"
   ]
  },
  {
   "cell_type": "code",
   "execution_count": null,
   "metadata": {},
   "outputs": [],
   "source": []
  },
  {
   "cell_type": "markdown",
   "metadata": {},
   "source": [
    "####  Southern Hemisphere - Humidity (%) vs. Latitude Linear Regression"
   ]
  },
  {
   "cell_type": "code",
   "execution_count": null,
   "metadata": {},
   "outputs": [],
   "source": []
  },
  {
   "cell_type": "markdown",
   "metadata": {},
   "source": [
    "####  Northern Hemisphere - Cloudiness (%) vs. Latitude Linear Regression"
   ]
  },
  {
   "cell_type": "code",
   "execution_count": null,
   "metadata": {},
   "outputs": [],
   "source": []
  },
  {
   "cell_type": "markdown",
   "metadata": {},
   "source": [
    "####  Southern Hemisphere - Cloudiness (%) vs. Latitude Linear Regression"
   ]
  },
  {
   "cell_type": "code",
   "execution_count": null,
   "metadata": {},
   "outputs": [],
   "source": []
  },
  {
   "cell_type": "markdown",
   "metadata": {},
   "source": [
    "####  Northern Hemisphere - Wind Speed (mph) vs. Latitude Linear Regression"
   ]
  },
  {
   "cell_type": "code",
   "execution_count": null,
   "metadata": {},
   "outputs": [],
   "source": []
  },
  {
   "cell_type": "markdown",
   "metadata": {},
   "source": [
    "####  Southern Hemisphere - Wind Speed (mph) vs. Latitude Linear Regression"
   ]
  },
  {
   "cell_type": "code",
   "execution_count": null,
   "metadata": {},
   "outputs": [],
   "source": []
  },
  {
   "cell_type": "code",
   "execution_count": null,
   "metadata": {},
   "outputs": [],
   "source": []
  }
 ],
 "metadata": {
  "anaconda-cloud": {},
  "kernel_info": {
   "name": "python3"
  },
  "kernelspec": {
   "display_name": "Python [conda env:PythonData] *",
   "language": "python",
   "name": "conda-env-PythonData-py"
  },
  "language_info": {
   "codemirror_mode": {
    "name": "ipython",
    "version": 3
   },
   "file_extension": ".py",
   "mimetype": "text/x-python",
   "name": "python",
   "nbconvert_exporter": "python",
   "pygments_lexer": "ipython3",
   "version": "3.6.12"
  },
  "latex_envs": {
   "LaTeX_envs_menu_present": true,
   "autoclose": false,
   "autocomplete": true,
   "bibliofile": "biblio.bib",
   "cite_by": "apalike",
   "current_citInitial": 1,
   "eqLabelWithNumbers": true,
   "eqNumInitial": 1,
   "hotkeys": {
    "equation": "Ctrl-E",
    "itemize": "Ctrl-I"
   },
   "labels_anchors": false,
   "latex_user_defs": false,
   "report_style_numbering": false,
   "user_envs_cfg": false
  },
  "nteract": {
   "version": "0.12.3"
  }
 },
 "nbformat": 4,
 "nbformat_minor": 2
}
