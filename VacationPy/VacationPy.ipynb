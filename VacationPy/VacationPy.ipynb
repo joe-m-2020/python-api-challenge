{
 "cells": [
  {
   "cell_type": "markdown",
   "metadata": {},
   "source": [
    "# VacationPy\n",
    "----\n",
    "\n",
    "#### Note\n",
    "* Keep an eye on your API usage. Use https://developers.google.com/maps/reporting/gmp-reporting as reference for how to monitor your usage and billing.\n",
    "\n",
    "* Instructions have been included for each segment. You do not have to follow them exactly, but they are included to help you think through the steps."
   ]
  },
  {
   "cell_type": "code",
   "execution_count": 7,
   "metadata": {},
   "outputs": [],
   "source": [
    "# Dependencies and Setup\n",
    "import matplotlib.pyplot as plt\n",
    "import pandas as pd\n",
    "import numpy as np\n",
    "import requests\n",
    "import gmaps\n",
    "import os\n",
    "import json\n",
    "\n",
    "# Import API key\n",
    "from api_keys import g_key"
   ]
  },
  {
   "cell_type": "markdown",
   "metadata": {},
   "source": [
    "### Store Part I results into DataFrame\n",
    "* Load the csv exported in Part I to a DataFrame"
   ]
  },
  {
   "cell_type": "code",
   "execution_count": 8,
   "metadata": {},
   "outputs": [
    {
     "data": {
      "text/html": [
       "<div>\n",
       "<style scoped>\n",
       "    .dataframe tbody tr th:only-of-type {\n",
       "        vertical-align: middle;\n",
       "    }\n",
       "\n",
       "    .dataframe tbody tr th {\n",
       "        vertical-align: top;\n",
       "    }\n",
       "\n",
       "    .dataframe thead th {\n",
       "        text-align: right;\n",
       "    }\n",
       "</style>\n",
       "<table border=\"1\" class=\"dataframe\">\n",
       "  <thead>\n",
       "    <tr style=\"text-align: right;\">\n",
       "      <th></th>\n",
       "      <th>City</th>\n",
       "      <th>Lat</th>\n",
       "      <th>Lng</th>\n",
       "      <th>Max Temp</th>\n",
       "      <th>Humidity</th>\n",
       "      <th>Cloudiness</th>\n",
       "      <th>Wind Speed</th>\n",
       "      <th>Country</th>\n",
       "      <th>Date</th>\n",
       "    </tr>\n",
       "  </thead>\n",
       "  <tbody>\n",
       "    <tr>\n",
       "      <th>0</th>\n",
       "      <td>Avarua</td>\n",
       "      <td>-21.21</td>\n",
       "      <td>-159.78</td>\n",
       "      <td>75.2</td>\n",
       "      <td>83</td>\n",
       "      <td>100</td>\n",
       "      <td>8.05</td>\n",
       "      <td>CK</td>\n",
       "      <td>1604195735</td>\n",
       "    </tr>\n",
       "    <tr>\n",
       "      <th>1</th>\n",
       "      <td>Mariehamn</td>\n",
       "      <td>60.10</td>\n",
       "      <td>19.93</td>\n",
       "      <td>48.2</td>\n",
       "      <td>87</td>\n",
       "      <td>0</td>\n",
       "      <td>16.11</td>\n",
       "      <td>AX</td>\n",
       "      <td>1604195736</td>\n",
       "    </tr>\n",
       "    <tr>\n",
       "      <th>2</th>\n",
       "      <td>Port Elizabeth</td>\n",
       "      <td>-33.92</td>\n",
       "      <td>25.57</td>\n",
       "      <td>64.4</td>\n",
       "      <td>82</td>\n",
       "      <td>75</td>\n",
       "      <td>8.05</td>\n",
       "      <td>ZA</td>\n",
       "      <td>1604195736</td>\n",
       "    </tr>\n",
       "    <tr>\n",
       "      <th>3</th>\n",
       "      <td>Korla</td>\n",
       "      <td>41.76</td>\n",
       "      <td>86.15</td>\n",
       "      <td>48.0</td>\n",
       "      <td>72</td>\n",
       "      <td>0</td>\n",
       "      <td>5.01</td>\n",
       "      <td>CN</td>\n",
       "      <td>1604195736</td>\n",
       "    </tr>\n",
       "    <tr>\n",
       "      <th>4</th>\n",
       "      <td>Punta Arenas</td>\n",
       "      <td>-53.15</td>\n",
       "      <td>-70.92</td>\n",
       "      <td>46.4</td>\n",
       "      <td>81</td>\n",
       "      <td>0</td>\n",
       "      <td>3.36</td>\n",
       "      <td>CL</td>\n",
       "      <td>1604195736</td>\n",
       "    </tr>\n",
       "  </tbody>\n",
       "</table>\n",
       "</div>"
      ],
      "text/plain": [
       "             City    Lat     Lng  Max Temp  Humidity  Cloudiness  Wind Speed  \\\n",
       "0          Avarua -21.21 -159.78      75.2        83         100        8.05   \n",
       "1       Mariehamn  60.10   19.93      48.2        87           0       16.11   \n",
       "2  Port Elizabeth -33.92   25.57      64.4        82          75        8.05   \n",
       "3           Korla  41.76   86.15      48.0        72           0        5.01   \n",
       "4    Punta Arenas -53.15  -70.92      46.4        81           0        3.36   \n",
       "\n",
       "  Country        Date  \n",
       "0      CK  1604195735  \n",
       "1      AX  1604195736  \n",
       "2      ZA  1604195736  \n",
       "3      CN  1604195736  \n",
       "4      CL  1604195736  "
      ]
     },
     "execution_count": 8,
     "metadata": {},
     "output_type": "execute_result"
    }
   ],
   "source": [
    "# read in weather py \n",
    "data_file = \"../WeatherPy/Figures/WeatherPy_output.csv\"\n",
    "city_data_df = pd.read_csv(data_file)\n",
    "city_data_df.head()"
   ]
  },
  {
   "cell_type": "markdown",
   "metadata": {},
   "source": [
    "### Humidity Heatmap\n",
    "* Configure gmaps.\n",
    "* Use the Lat and Lng as locations and Humidity as the weight.\n",
    "* Add Heatmap layer to map."
   ]
  },
  {
   "cell_type": "code",
   "execution_count": 9,
   "metadata": {},
   "outputs": [],
   "source": [
    "# configer gmaps with API key\n",
    "gmaps.configure(api_key=g_key)\n",
    "\n",
    "# set variable for lat lng as locations and humidity to use as weight\n",
    "locations = city_data_df[[\"Lat\",\"Lng\"]].astype(float)\n",
    "humidity = city_data_df[\"Humidity\"].astype(int)"
   ]
  },
  {
   "cell_type": "code",
   "execution_count": 10,
   "metadata": {},
   "outputs": [
    {
     "data": {
      "application/vnd.jupyter.widget-view+json": {
       "model_id": "c8d2c81c9aa84e8eadbbdb80b837f8f2",
       "version_major": 2,
       "version_minor": 0
      },
      "text/plain": [
       "Figure(layout=FigureLayout(height='420px'))"
      ]
     },
     "metadata": {},
     "output_type": "display_data"
    }
   ],
   "source": [
    "# create humidity heatmap layer\n",
    "fig=gmaps.figure()\n",
    "heat_layer = gmaps.heatmap_layer(locations,weights=humidity,dissipating=False,\n",
    "                                max_intensity = 100, point_radius = 1)\n",
    "\n",
    "fig.add_layer(heat_layer)\n",
    "fig"
   ]
  },
  {
   "cell_type": "markdown",
   "metadata": {},
   "source": [
    "### Create new DataFrame fitting weather criteria\n",
    "* Narrow down the cities to fit weather conditions.\n",
    "* Drop any rows will null values."
   ]
  },
  {
   "cell_type": "code",
   "execution_count": 11,
   "metadata": {
    "scrolled": true
   },
   "outputs": [],
   "source": [
    "nice_weather_df = city_data_df.loc[(city_data_df[\"Max Temp\"]>=70) & (city_data_df[\"Max Temp\"]<=90)]\n",
    "nice_weather_df = nice_weather_df.loc[nice_weather_df[\"Wind Speed\"]<10.00]\n",
    "nice_weather_df = nice_weather_df.loc[nice_weather_df[\"Cloudiness\"]==0]\n",
    "nice_weather_df.reset_index(inplace=True)\n",
    "cl_nice_weather_df =nice_weather_df.dropna()"
   ]
  },
  {
   "cell_type": "markdown",
   "metadata": {},
   "source": [
    "### Hotel Map\n",
    "* Store into variable named `hotel_df`.\n",
    "* Add a \"Hotel Name\" column to the DataFrame.\n",
    "* Set parameters to search for hotels with 5000 meters.\n",
    "* Hit the Google Places API for each city's coordinates.\n",
    "* Store the first Hotel result into the DataFrame.\n",
    "* Plot markers on top of the heatmap."
   ]
  },
  {
   "cell_type": "code",
   "execution_count": 12,
   "metadata": {},
   "outputs": [],
   "source": [
    "\n",
    "# set target radius to 5000m\n",
    "target_radius = 50000\n",
    "\n",
    "# set type as hotel\n",
    "target_type=\"hotel\"\n",
    "\n",
    "# formulate base URL\n",
    "base_url = \"https://maps.googleapis.com/maps/api/place/nearbysearch/json\"\n"
   ]
  },
  {
   "cell_type": "code",
   "execution_count": 13,
   "metadata": {},
   "outputs": [],
   "source": [
    "# create lists to collect hotel data\n",
    "hotel_list = []\n",
    "# create for loop to collect hotel names list\n",
    "for places in range(len(cl_nice_weather_df)):\n",
    "    lat = cl_nice_weather_df.loc[places]['Lat']\n",
    "    lng = cl_nice_weather_df.loc[places]['Lng']\n",
    "    params = {\"location\":f\"{lat},{lng}\" ,\n",
    "             \"radius\": target_radius,\n",
    "              \"type\":target_type,\n",
    "              \"key\":g_key}\n",
    "    requested = requests.get(base_url, params=params)\n",
    "    hotel_list.append(requested.json()['results'][0]['name'])\n"
   ]
  },
  {
   "cell_type": "code",
   "execution_count": 21,
   "metadata": {},
   "outputs": [
    {
     "data": {
      "text/html": [
       "<div>\n",
       "<style scoped>\n",
       "    .dataframe tbody tr th:only-of-type {\n",
       "        vertical-align: middle;\n",
       "    }\n",
       "\n",
       "    .dataframe tbody tr th {\n",
       "        vertical-align: top;\n",
       "    }\n",
       "\n",
       "    .dataframe thead th {\n",
       "        text-align: right;\n",
       "    }\n",
       "</style>\n",
       "<table border=\"1\" class=\"dataframe\">\n",
       "  <thead>\n",
       "    <tr style=\"text-align: right;\">\n",
       "      <th></th>\n",
       "      <th>Hotel Name</th>\n",
       "      <th>Lat</th>\n",
       "      <th>Lng</th>\n",
       "      <th>Country</th>\n",
       "      <th>City</th>\n",
       "    </tr>\n",
       "  </thead>\n",
       "  <tbody>\n",
       "    <tr>\n",
       "      <th>0</th>\n",
       "      <td>Arrecife</td>\n",
       "      <td>29.06</td>\n",
       "      <td>-13.56</td>\n",
       "      <td>ES</td>\n",
       "      <td>Teguise</td>\n",
       "    </tr>\n",
       "    <tr>\n",
       "      <th>1</th>\n",
       "      <td>Rikitea</td>\n",
       "      <td>-23.12</td>\n",
       "      <td>-134.97</td>\n",
       "      <td>PF</td>\n",
       "      <td>Rikitea</td>\n",
       "    </tr>\n",
       "    <tr>\n",
       "      <th>2</th>\n",
       "      <td>Dili</td>\n",
       "      <td>-8.93</td>\n",
       "      <td>125.41</td>\n",
       "      <td>TL</td>\n",
       "      <td>Airai</td>\n",
       "    </tr>\n",
       "    <tr>\n",
       "      <th>3</th>\n",
       "      <td>Nobére Department</td>\n",
       "      <td>11.66</td>\n",
       "      <td>-1.07</td>\n",
       "      <td>BF</td>\n",
       "      <td>Manga</td>\n",
       "    </tr>\n",
       "    <tr>\n",
       "      <th>4</th>\n",
       "      <td>Velidhoo</td>\n",
       "      <td>5.67</td>\n",
       "      <td>73.00</td>\n",
       "      <td>MV</td>\n",
       "      <td>Ugoofaaru</td>\n",
       "    </tr>\n",
       "  </tbody>\n",
       "</table>\n",
       "</div>"
      ],
      "text/plain": [
       "          Hotel Name    Lat     Lng Country       City\n",
       "0           Arrecife  29.06  -13.56      ES    Teguise\n",
       "1            Rikitea -23.12 -134.97      PF    Rikitea\n",
       "2               Dili  -8.93  125.41      TL      Airai\n",
       "3  Nobére Department  11.66   -1.07      BF      Manga\n",
       "4           Velidhoo   5.67   73.00      MV  Ugoofaaru"
      ]
     },
     "execution_count": 21,
     "metadata": {},
     "output_type": "execute_result"
    }
   ],
   "source": [
    "# add hotel_list to nice weather df\n",
    "# these are your vacation spots\n",
    "nice_weather_df[\"Hotel Name\"]=hotel_list\n",
    "my_vacation_spots_df = nice_weather_df[[\"Hotel Name\",\"Lat\",\"Lng\",\"Country\",\"City\"]]\n",
    "my_vacation_spots_df.head()"
   ]
  },
  {
   "cell_type": "code",
   "execution_count": 15,
   "metadata": {},
   "outputs": [],
   "source": [
    "# NOTE: Do not change any of the code in this cell\n",
    "\n",
    "# Using the template add the hotel marks to the heatmap\n",
    "info_box_template = \"\"\"\n",
    "<dl>\n",
    "<dt>Name</dt><dd>{Hotel Name}</dd>\n",
    "<dt>City</dt><dd>{City}</dd>\n",
    "<dt>Country</dt><dd>{Country}</dd>\n",
    "</dl>\n",
    "\"\"\"\n",
    "# Store the DataFrame Row\n",
    "# NOTE: be sure to update with your DataFrame name\n",
    "hotel_info = [info_box_template.format(**row) for index, row in my_vacation_spots_df.iterrows()]\n",
    "locations = my_vacation_spots_df[[\"Lat\", \"Lng\"]]"
   ]
  },
  {
   "cell_type": "code",
   "execution_count": 20,
   "metadata": {
    "scrolled": true
   },
   "outputs": [
    {
     "data": {
      "application/vnd.jupyter.widget-view+json": {
       "model_id": "c8d2c81c9aa84e8eadbbdb80b837f8f2",
       "version_major": 2,
       "version_minor": 0
      },
      "text/plain": [
       "Figure(layout=FigureLayout(height='420px'))"
      ]
     },
     "metadata": {},
     "output_type": "display_data"
    }
   ],
   "source": [
    "# Add marker layer ontop of heat map\n",
    "\n",
    "hotel_name = my_vacation_spots_df[\"Hotel Name\"]\n",
    "markers = gmaps.marker_layer(locations,info_box_content=hotel_info)\n",
    "m=fig.add_layer(markers)\n",
    "\n",
    "\n",
    "# Display figure\n",
    "fig\n"
   ]
  },
  {
   "cell_type": "code",
   "execution_count": null,
   "metadata": {},
   "outputs": [],
   "source": []
  },
  {
   "cell_type": "code",
   "execution_count": null,
   "metadata": {},
   "outputs": [],
   "source": []
  }
 ],
 "metadata": {
  "kernelspec": {
   "display_name": "Python [conda env:PythonData] *",
   "language": "python",
   "name": "conda-env-PythonData-py"
  },
  "language_info": {
   "codemirror_mode": {
    "name": "ipython",
    "version": 3
   },
   "file_extension": ".py",
   "mimetype": "text/x-python",
   "name": "python",
   "nbconvert_exporter": "python",
   "pygments_lexer": "ipython3",
   "version": "3.6.12"
  },
  "latex_envs": {
   "LaTeX_envs_menu_present": true,
   "autoclose": false,
   "autocomplete": true,
   "bibliofile": "biblio.bib",
   "cite_by": "apalike",
   "current_citInitial": 1,
   "eqLabelWithNumbers": true,
   "eqNumInitial": 1,
   "hotkeys": {
    "equation": "Ctrl-E",
    "itemize": "Ctrl-I"
   },
   "labels_anchors": false,
   "latex_user_defs": false,
   "report_style_numbering": false,
   "user_envs_cfg": false
  }
 },
 "nbformat": 4,
 "nbformat_minor": 4
}
